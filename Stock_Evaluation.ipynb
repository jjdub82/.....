{
  "nbformat": 4,
  "nbformat_minor": 0,
  "metadata": {
    "colab": {
      "name": "Stock Evaluation.ipynb",
      "provenance": [],
      "collapsed_sections": [
        "gsoSOl6WqlQy"
      ],
      "mount_file_id": "1cEqMLI-ZjY_xQMz-NE3WJauaTmjebwBf",
      "authorship_tag": "ABX9TyNyPyCCsZw4xMCs1X81DGLU",
      "include_colab_link": true
    },
    "kernelspec": {
      "name": "python3",
      "display_name": "Python 3"
    },
    "language_info": {
      "name": "python"
    }
  },
  "cells": [
    {
      "cell_type": "markdown",
      "metadata": {
        "id": "view-in-github",
        "colab_type": "text"
      },
      "source": [
        "<a href=\"https://colab.research.google.com/github/jjdub82/...../blob/master/Stock_Evaluation.ipynb\" target=\"_parent\"><img src=\"https://colab.research.google.com/assets/colab-badge.svg\" alt=\"Open In Colab\"/></a>"
      ]
    },
    {
      "cell_type": "markdown",
      "metadata": {
        "id": "gsoSOl6WqlQy"
      },
      "source": [
        "# Dependencies"
      ]
    },
    {
      "cell_type": "code",
      "metadata": {
        "id": "Mk0_Evh6QR10"
      },
      "source": [
        "pip install pandas table plotting\n"
      ],
      "execution_count": null,
      "outputs": []
    },
    {
      "cell_type": "code",
      "metadata": {
        "id": "2n9GqAsBKIlw"
      },
      "source": [
        "pip install yfinance"
      ],
      "execution_count": null,
      "outputs": []
    },
    {
      "cell_type": "code",
      "metadata": {
        "id": "q3l-a-4BQMKJ"
      },
      "source": [
        "pip install dataframe-image"
      ],
      "execution_count": null,
      "outputs": []
    },
    {
      "cell_type": "code",
      "metadata": {
        "id": "MJXNXVuFB7qZ"
      },
      "source": [
        "pip install fpdf2"
      ],
      "execution_count": null,
      "outputs": []
    },
    {
      "cell_type": "code",
      "metadata": {
        "id": "j-9Ali7KKqX4"
      },
      "source": [
        "import pandas as pd\n",
        "import yfinance as yf\n",
        "import numpy as np\n",
        "import matplotlib.pyplot as plt\n",
        "import seaborn as sns\n",
        "import datetime as dt\n",
        "import requests\n",
        "from PIL import Image\n",
        "%matplotlib inline"
      ],
      "execution_count": 93,
      "outputs": []
    },
    {
      "cell_type": "code",
      "metadata": {
        "id": "_uqz0RQiu3Be"
      },
      "source": [
        "from datetime import date\n",
        "from datetime import datetime\n",
        "from datetime import timedelta\n",
        "today = str(date.today())\n",
        "current_year = date.today().year"
      ],
      "execution_count": 94,
      "outputs": []
    },
    {
      "cell_type": "code",
      "metadata": {
        "id": "Q63O7xA1jjBJ"
      },
      "source": [
        "import pandas as pd\n",
        "import numpy as np\n",
        "import matplotlib.pyplot as plt\n",
        "from matplotlib.backends.backend_pdf import PdfPages\n",
        "import matplotlib.gridspec as gridspec\n",
        "from matplotlib.ticker import MaxNLocator\n",
        "from numpy import array\n",
        "from matplotlib import ticker"
      ],
      "execution_count": 95,
      "outputs": []
    },
    {
      "cell_type": "code",
      "metadata": {
        "id": "-GzSBePvEI4M"
      },
      "source": [
        "from fpdf import FPDF"
      ],
      "execution_count": 96,
      "outputs": []
    },
    {
      "cell_type": "markdown",
      "metadata": {
        "id": "vaZ-i3t-qbXt"
      },
      "source": [
        "# Company Selection"
      ]
    },
    {
      "cell_type": "code",
      "metadata": {
        "colab": {
          "base_uri": "https://localhost:8080/"
        },
        "id": "-8o6o0tcnwR8",
        "outputId": "cf26776b-7b9d-4c18-937a-88d0acc454a3"
      },
      "source": [
        "ticker = yf.Ticker(input(\"Enter Ticker\\n\"))"
      ],
      "execution_count": 97,
      "outputs": [
        {
          "output_type": "stream",
          "text": [
            "Enter Ticker\n",
            "RTX\n"
          ],
          "name": "stdout"
        }
      ]
    },
    {
      "cell_type": "code",
      "metadata": {
        "colab": {
          "base_uri": "https://localhost:8080/"
        },
        "id": "EHQVjO6JjTyP",
        "outputId": "93e58272-6a29-4188-be53-d3ac70174eb6"
      },
      "source": [
        "recommendations_df = ticker.recommendations\n",
        "recommendations_df.reset_index(inplace=True)\n",
        "recommendations_df.columns\n"
      ],
      "execution_count": 98,
      "outputs": [
        {
          "output_type": "execute_result",
          "data": {
            "text/plain": [
              "Index(['Date', 'Firm', 'To Grade', 'From Grade', 'Action'], dtype='object')"
            ]
          },
          "metadata": {},
          "execution_count": 98
        }
      ]
    },
    {
      "cell_type": "code",
      "metadata": {
        "id": "OrA3mxP2gfE8"
      },
      "source": [
        "ticker.info\n",
        "book_value = str(ticker.info['bookValue'])\n",
        "fifty_day_avg_price = str(ticker.info['fiftyDayAverage'])\n",
        "fifty_two_high = str(ticker.info['fiftyTwoWeekHigh'])\n",
        "fifty_two_low = str(ticker.info['fiftyTwoWeekLow'])\n",
        "forward_PE = str(ticker.info['forwardPE'])\n",
        "forward_EPS = str(ticker.info['forwardEps'])\n",
        "peg_ratio = str(ticker.info['pegRatio'])\n",
        "price_to_book = str(ticker.info['priceToBook'])\n",
        "target_low_price = str(ticker.info['targetLowPrice'])\n",
        "target_median_price = str(ticker.info['targetMedianPrice'])\n",
        "market_cap_str = str(ticker.info['marketCap'])\n",
        "market_cap_num = ticker.info['marketCap']"
      ],
      "execution_count": 99,
      "outputs": []
    },
    {
      "cell_type": "code",
      "metadata": {
        "id": "nOOozrJAkeqM"
      },
      "source": [
        "free_cash_ttm = ticker.info['freeCashflow']"
      ],
      "execution_count": 100,
      "outputs": []
    },
    {
      "cell_type": "code",
      "metadata": {
        "colab": {
          "base_uri": "https://localhost:8080/"
        },
        "id": "fsaWHnY1JbvS",
        "outputId": "d2169499-f987-401e-e9ed-bc972440e080"
      },
      "source": [
        "last_year = datetime.today() - timedelta(days=365)\n",
        "print(last_year)"
      ],
      "execution_count": 101,
      "outputs": [
        {
          "output_type": "stream",
          "text": [
            "2020-08-28 10:12:27.122703\n"
          ],
          "name": "stdout"
        }
      ]
    },
    {
      "cell_type": "code",
      "metadata": {
        "id": "-phXyTbBo3U7"
      },
      "source": [
        "pe_ratio = ticker.info['trailingPE']"
      ],
      "execution_count": 102,
      "outputs": []
    },
    {
      "cell_type": "code",
      "metadata": {
        "colab": {
          "base_uri": "https://localhost:8080/",
          "height": 359
        },
        "id": "Dsgyt0pDsr_P",
        "outputId": "41b2b6ca-10e4-4ac0-8b99-f204d9b993ac"
      },
      "source": [
        "recommendations_df['Year'] = recommendations_df['Date'].dt.year\n",
        "current_recommendations_1yr = recommendations_df.loc[recommendations_df['Date']>=last_year]\n",
        "current_recommendations_1mo = recommendations_df.loc[recommendations_df['Date']>=datetime.today() - timedelta(days=31)]\n",
        "current_recommendations_3mo = recommendations_df.loc[recommendations_df['Date']>=datetime.today() - timedelta(days=90)]\n",
        "current_recommendations_6mo = recommendations_df.loc[recommendations_df['Date']>=datetime.today() - timedelta(days=180)]\n",
        "current_recommendations_6mo\n"
      ],
      "execution_count": 103,
      "outputs": [
        {
          "output_type": "execute_result",
          "data": {
            "text/html": [
              "<div>\n",
              "<style scoped>\n",
              "    .dataframe tbody tr th:only-of-type {\n",
              "        vertical-align: middle;\n",
              "    }\n",
              "\n",
              "    .dataframe tbody tr th {\n",
              "        vertical-align: top;\n",
              "    }\n",
              "\n",
              "    .dataframe thead th {\n",
              "        text-align: right;\n",
              "    }\n",
              "</style>\n",
              "<table border=\"1\" class=\"dataframe\">\n",
              "  <thead>\n",
              "    <tr style=\"text-align: right;\">\n",
              "      <th></th>\n",
              "      <th>Date</th>\n",
              "      <th>Firm</th>\n",
              "      <th>To Grade</th>\n",
              "      <th>From Grade</th>\n",
              "      <th>Action</th>\n",
              "      <th>Year</th>\n",
              "    </tr>\n",
              "  </thead>\n",
              "  <tbody>\n",
              "    <tr>\n",
              "      <th>10</th>\n",
              "      <td>2021-04-09 10:25:10</td>\n",
              "      <td>Wolfe Research</td>\n",
              "      <td>Outperform</td>\n",
              "      <td></td>\n",
              "      <td>init</td>\n",
              "      <td>2021</td>\n",
              "    </tr>\n",
              "    <tr>\n",
              "      <th>11</th>\n",
              "      <td>2021-04-12 12:14:43</td>\n",
              "      <td>Susquehanna</td>\n",
              "      <td>Positive</td>\n",
              "      <td></td>\n",
              "      <td>main</td>\n",
              "      <td>2021</td>\n",
              "    </tr>\n",
              "    <tr>\n",
              "      <th>12</th>\n",
              "      <td>2021-04-14 13:42:17</td>\n",
              "      <td>Credit Suisse</td>\n",
              "      <td>Outperform</td>\n",
              "      <td></td>\n",
              "      <td>main</td>\n",
              "      <td>2021</td>\n",
              "    </tr>\n",
              "    <tr>\n",
              "      <th>13</th>\n",
              "      <td>2021-04-28 13:24:50</td>\n",
              "      <td>Morgan Stanley</td>\n",
              "      <td>Overweight</td>\n",
              "      <td></td>\n",
              "      <td>main</td>\n",
              "      <td>2021</td>\n",
              "    </tr>\n",
              "    <tr>\n",
              "      <th>14</th>\n",
              "      <td>2021-05-07 14:57:35</td>\n",
              "      <td>Redburn Partners</td>\n",
              "      <td>Buy</td>\n",
              "      <td></td>\n",
              "      <td>init</td>\n",
              "      <td>2021</td>\n",
              "    </tr>\n",
              "    <tr>\n",
              "      <th>15</th>\n",
              "      <td>2021-05-13 10:52:19</td>\n",
              "      <td>Wells Fargo</td>\n",
              "      <td>Equal-Weight</td>\n",
              "      <td></td>\n",
              "      <td>init</td>\n",
              "      <td>2021</td>\n",
              "    </tr>\n",
              "    <tr>\n",
              "      <th>16</th>\n",
              "      <td>2021-05-19 13:33:04</td>\n",
              "      <td>Credit Suisse</td>\n",
              "      <td>Outperform</td>\n",
              "      <td></td>\n",
              "      <td>main</td>\n",
              "      <td>2021</td>\n",
              "    </tr>\n",
              "    <tr>\n",
              "      <th>17</th>\n",
              "      <td>2021-06-03 13:22:00</td>\n",
              "      <td>Jefferies</td>\n",
              "      <td>Buy</td>\n",
              "      <td></td>\n",
              "      <td>main</td>\n",
              "      <td>2021</td>\n",
              "    </tr>\n",
              "    <tr>\n",
              "      <th>18</th>\n",
              "      <td>2021-07-28 12:19:50</td>\n",
              "      <td>Susquehanna</td>\n",
              "      <td>Positive</td>\n",
              "      <td></td>\n",
              "      <td>main</td>\n",
              "      <td>2021</td>\n",
              "    </tr>\n",
              "    <tr>\n",
              "      <th>19</th>\n",
              "      <td>2021-07-29 12:14:52</td>\n",
              "      <td>Argus Research</td>\n",
              "      <td>Buy</td>\n",
              "      <td>Hold</td>\n",
              "      <td>up</td>\n",
              "      <td>2021</td>\n",
              "    </tr>\n",
              "  </tbody>\n",
              "</table>\n",
              "</div>"
            ],
            "text/plain": [
              "                  Date              Firm      To Grade From Grade Action  Year\n",
              "10 2021-04-09 10:25:10    Wolfe Research    Outperform              init  2021\n",
              "11 2021-04-12 12:14:43       Susquehanna      Positive              main  2021\n",
              "12 2021-04-14 13:42:17     Credit Suisse    Outperform              main  2021\n",
              "13 2021-04-28 13:24:50    Morgan Stanley    Overweight              main  2021\n",
              "14 2021-05-07 14:57:35  Redburn Partners           Buy              init  2021\n",
              "15 2021-05-13 10:52:19       Wells Fargo  Equal-Weight              init  2021\n",
              "16 2021-05-19 13:33:04     Credit Suisse    Outperform              main  2021\n",
              "17 2021-06-03 13:22:00         Jefferies           Buy              main  2021\n",
              "18 2021-07-28 12:19:50       Susquehanna      Positive              main  2021\n",
              "19 2021-07-29 12:14:52    Argus Research           Buy       Hold     up  2021"
            ]
          },
          "metadata": {},
          "execution_count": 103
        }
      ]
    },
    {
      "cell_type": "code",
      "metadata": {
        "colab": {
          "base_uri": "https://localhost:8080/"
        },
        "id": "Py0PyB15TknU",
        "outputId": "ea010ad9-be62-4ad8-f4bf-e0ba0460edcf"
      },
      "source": [
        "ticker.info['grossMargins']"
      ],
      "execution_count": 104,
      "outputs": [
        {
          "output_type": "execute_result",
          "data": {
            "text/plain": [
              "0.16600999"
            ]
          },
          "metadata": {},
          "execution_count": 104
        }
      ]
    },
    {
      "cell_type": "code",
      "metadata": {
        "id": "aAqdO6mncXj-"
      },
      "source": [
        "gross_margin = ticker.info['grossMargins']\n",
        "market_cap = ticker.info['marketCap']\n",
        "shares_outstanding = ticker.info['sharesOutstanding']"
      ],
      "execution_count": 105,
      "outputs": []
    },
    {
      "cell_type": "code",
      "metadata": {
        "id": "M0J7WPLpYtna"
      },
      "source": [
        "finance = ticker.financials"
      ],
      "execution_count": 106,
      "outputs": []
    },
    {
      "cell_type": "markdown",
      "metadata": {
        "id": "IPWPDBBkeq5R"
      },
      "source": [
        "FINANCE STATEMENT DATAFRAMES"
      ]
    },
    {
      "cell_type": "code",
      "metadata": {
        "id": "0lmAFONGZLAT"
      },
      "source": [
        "finance = finance.set_axis(['2020', '2019', '2018', '2017'], axis = 'columns')"
      ],
      "execution_count": 107,
      "outputs": []
    },
    {
      "cell_type": "code",
      "metadata": {
        "colab": {
          "base_uri": "https://localhost:8080/",
          "height": 762
        },
        "id": "8-sKRUO1Y98T",
        "outputId": "904da0a9-cad1-496b-ee07-40f56bfbed17"
      },
      "source": [
        "finance.index.name = 'Category'\n",
        "finance"
      ],
      "execution_count": 108,
      "outputs": [
        {
          "output_type": "execute_result",
          "data": {
            "text/html": [
              "<div>\n",
              "<style scoped>\n",
              "    .dataframe tbody tr th:only-of-type {\n",
              "        vertical-align: middle;\n",
              "    }\n",
              "\n",
              "    .dataframe tbody tr th {\n",
              "        vertical-align: top;\n",
              "    }\n",
              "\n",
              "    .dataframe thead th {\n",
              "        text-align: right;\n",
              "    }\n",
              "</style>\n",
              "<table border=\"1\" class=\"dataframe\">\n",
              "  <thead>\n",
              "    <tr style=\"text-align: right;\">\n",
              "      <th></th>\n",
              "      <th>2020</th>\n",
              "      <th>2019</th>\n",
              "      <th>2018</th>\n",
              "      <th>2017</th>\n",
              "    </tr>\n",
              "    <tr>\n",
              "      <th>Category</th>\n",
              "      <th></th>\n",
              "      <th></th>\n",
              "      <th></th>\n",
              "      <th></th>\n",
              "    </tr>\n",
              "  </thead>\n",
              "  <tbody>\n",
              "    <tr>\n",
              "      <th>Research Development</th>\n",
              "      <td>2.582e+09</td>\n",
              "      <td>2.452e+09</td>\n",
              "      <td>1.878e+09</td>\n",
              "      <td>2.427e+09</td>\n",
              "    </tr>\n",
              "    <tr>\n",
              "      <th>Effect Of Accounting Charges</th>\n",
              "      <td>None</td>\n",
              "      <td>None</td>\n",
              "      <td>None</td>\n",
              "      <td>None</td>\n",
              "    </tr>\n",
              "    <tr>\n",
              "      <th>Income Before Tax</th>\n",
              "      <td>-2.353e+09</td>\n",
              "      <td>4.152e+09</td>\n",
              "      <td>2.504e+09</td>\n",
              "      <td>7.763e+09</td>\n",
              "    </tr>\n",
              "    <tr>\n",
              "      <th>Minority Interest</th>\n",
              "      <td>1.721e+09</td>\n",
              "      <td>2.552e+09</td>\n",
              "      <td>2.273e+09</td>\n",
              "      <td>1.942e+09</td>\n",
              "    </tr>\n",
              "    <tr>\n",
              "      <th>Net Income</th>\n",
              "      <td>-3.519e+09</td>\n",
              "      <td>5.537e+09</td>\n",
              "      <td>5.269e+09</td>\n",
              "      <td>4.552e+09</td>\n",
              "    </tr>\n",
              "    <tr>\n",
              "      <th>Selling General Administrative</th>\n",
              "      <td>4.116e+09</td>\n",
              "      <td>2.94e+09</td>\n",
              "      <td>2.093e+09</td>\n",
              "      <td>5.856e+09</td>\n",
              "    </tr>\n",
              "    <tr>\n",
              "      <th>Gross Profit</th>\n",
              "      <td>9.017e+09</td>\n",
              "      <td>1.0932e+10</td>\n",
              "      <td>7.236e+09</td>\n",
              "      <td>1.5636e+10</td>\n",
              "    </tr>\n",
              "    <tr>\n",
              "      <th>Ebit</th>\n",
              "      <td>2.485e+09</td>\n",
              "      <td>5.775e+09</td>\n",
              "      <td>3.648e+09</td>\n",
              "      <td>8.145e+09</td>\n",
              "    </tr>\n",
              "    <tr>\n",
              "      <th>Operating Income</th>\n",
              "      <td>2.485e+09</td>\n",
              "      <td>5.775e+09</td>\n",
              "      <td>3.648e+09</td>\n",
              "      <td>8.145e+09</td>\n",
              "    </tr>\n",
              "    <tr>\n",
              "      <th>Other Operating Expenses</th>\n",
              "      <td>-1.66e+08</td>\n",
              "      <td>-2.35e+08</td>\n",
              "      <td>-3.83e+08</td>\n",
              "      <td>-7.92e+08</td>\n",
              "    </tr>\n",
              "    <tr>\n",
              "      <th>Interest Expense</th>\n",
              "      <td>-1.408e+09</td>\n",
              "      <td>-1.711e+09</td>\n",
              "      <td>-1.182e+09</td>\n",
              "      <td>-1.017e+09</td>\n",
              "    </tr>\n",
              "    <tr>\n",
              "      <th>Extraordinary Items</th>\n",
              "      <td>None</td>\n",
              "      <td>None</td>\n",
              "      <td>None</td>\n",
              "      <td>None</td>\n",
              "    </tr>\n",
              "    <tr>\n",
              "      <th>Non Recurring</th>\n",
              "      <td>None</td>\n",
              "      <td>None</td>\n",
              "      <td>None</td>\n",
              "      <td>None</td>\n",
              "    </tr>\n",
              "    <tr>\n",
              "      <th>Other Items</th>\n",
              "      <td>None</td>\n",
              "      <td>None</td>\n",
              "      <td>None</td>\n",
              "      <td>None</td>\n",
              "    </tr>\n",
              "    <tr>\n",
              "      <th>Income Tax Expense</th>\n",
              "      <td>5.75e+08</td>\n",
              "      <td>4.21e+08</td>\n",
              "      <td>1.098e+09</td>\n",
              "      <td>2.843e+09</td>\n",
              "    </tr>\n",
              "    <tr>\n",
              "      <th>Total Revenue</th>\n",
              "      <td>5.6587e+10</td>\n",
              "      <td>4.5349e+10</td>\n",
              "      <td>3.4701e+10</td>\n",
              "      <td>5.9837e+10</td>\n",
              "    </tr>\n",
              "    <tr>\n",
              "      <th>Total Operating Expenses</th>\n",
              "      <td>5.4102e+10</td>\n",
              "      <td>3.9574e+10</td>\n",
              "      <td>3.1053e+10</td>\n",
              "      <td>5.1692e+10</td>\n",
              "    </tr>\n",
              "    <tr>\n",
              "      <th>Cost Of Revenue</th>\n",
              "      <td>4.757e+10</td>\n",
              "      <td>3.4417e+10</td>\n",
              "      <td>2.7465e+10</td>\n",
              "      <td>4.4201e+10</td>\n",
              "    </tr>\n",
              "    <tr>\n",
              "      <th>Total Other Income Expense Net</th>\n",
              "      <td>-4.838e+09</td>\n",
              "      <td>-1.623e+09</td>\n",
              "      <td>-1.144e+09</td>\n",
              "      <td>-3.82e+08</td>\n",
              "    </tr>\n",
              "    <tr>\n",
              "      <th>Discontinued Operations</th>\n",
              "      <td>-4.1e+08</td>\n",
              "      <td>2.027e+09</td>\n",
              "      <td>4.053e+09</td>\n",
              "      <td>4.053e+09</td>\n",
              "    </tr>\n",
              "    <tr>\n",
              "      <th>Net Income From Continuing Ops</th>\n",
              "      <td>-2.928e+09</td>\n",
              "      <td>3.731e+09</td>\n",
              "      <td>1.406e+09</td>\n",
              "      <td>4.92e+09</td>\n",
              "    </tr>\n",
              "    <tr>\n",
              "      <th>Net Income Applicable To Common Shares</th>\n",
              "      <td>-3.519e+09</td>\n",
              "      <td>5.537e+09</td>\n",
              "      <td>5.269e+09</td>\n",
              "      <td>4.552e+09</td>\n",
              "    </tr>\n",
              "  </tbody>\n",
              "</table>\n",
              "</div>"
            ],
            "text/plain": [
              "                                              2020  ...        2017\n",
              "Category                                            ...            \n",
              "Research Development                     2.582e+09  ...   2.427e+09\n",
              "Effect Of Accounting Charges                  None  ...        None\n",
              "Income Before Tax                       -2.353e+09  ...   7.763e+09\n",
              "Minority Interest                        1.721e+09  ...   1.942e+09\n",
              "Net Income                              -3.519e+09  ...   4.552e+09\n",
              "Selling General Administrative           4.116e+09  ...   5.856e+09\n",
              "Gross Profit                             9.017e+09  ...  1.5636e+10\n",
              "Ebit                                     2.485e+09  ...   8.145e+09\n",
              "Operating Income                         2.485e+09  ...   8.145e+09\n",
              "Other Operating Expenses                 -1.66e+08  ...   -7.92e+08\n",
              "Interest Expense                        -1.408e+09  ...  -1.017e+09\n",
              "Extraordinary Items                           None  ...        None\n",
              "Non Recurring                                 None  ...        None\n",
              "Other Items                                   None  ...        None\n",
              "Income Tax Expense                        5.75e+08  ...   2.843e+09\n",
              "Total Revenue                           5.6587e+10  ...  5.9837e+10\n",
              "Total Operating Expenses                5.4102e+10  ...  5.1692e+10\n",
              "Cost Of Revenue                          4.757e+10  ...  4.4201e+10\n",
              "Total Other Income Expense Net          -4.838e+09  ...   -3.82e+08\n",
              "Discontinued Operations                   -4.1e+08  ...   4.053e+09\n",
              "Net Income From Continuing Ops          -2.928e+09  ...    4.92e+09\n",
              "Net Income Applicable To Common Shares  -3.519e+09  ...   4.552e+09\n",
              "\n",
              "[22 rows x 4 columns]"
            ]
          },
          "metadata": {},
          "execution_count": 108
        }
      ]
    },
    {
      "cell_type": "code",
      "metadata": {
        "id": "mwOOspNgs6cd"
      },
      "source": [
        "sga_list = list(finance.loc['Selling General Administrative'])\n",
        "ebit_list = list(finance.loc['Ebit'])\n",
        "income_tax_list = list(finance.loc['Income Tax Expense'])\n",
        "interest_list = list(finance.loc['Interest Expense'])"
      ],
      "execution_count": 109,
      "outputs": []
    },
    {
      "cell_type": "code",
      "metadata": {
        "id": "o3P8Uin8a3PE"
      },
      "source": [
        "bal_sheet = ticker.balancesheet\n",
        "bal_sheet = bal_sheet.set_axis(['2020', '2019', '2018', '2017'], axis = 'columns')\n",
        "bal_sheet.index.name = 'Category'\n",
        "\n",
        "cashflow = ticker.cashflow\n",
        "cashflow = cashflow.set_axis(['2020', '2019', '2018', '2017'], axis = 'columns')\n",
        "cashflow.index.name = 'Category'\n"
      ],
      "execution_count": 110,
      "outputs": []
    },
    {
      "cell_type": "code",
      "metadata": {
        "id": "egewCGEEgCdx"
      },
      "source": [
        "operating_margins = ticker.info['operatingMargins']"
      ],
      "execution_count": 111,
      "outputs": []
    },
    {
      "cell_type": "code",
      "metadata": {
        "id": "ucJ98XuHiFHv"
      },
      "source": [
        "operating_cashflow = ticker.info['operatingCashflow']"
      ],
      "execution_count": 112,
      "outputs": []
    },
    {
      "cell_type": "code",
      "metadata": {
        "id": "XHr8k53RiYBl"
      },
      "source": [
        "df_fin = finance.loc[['Operating Income','Net Income','Research Development','Cost Of Revenue', 'Total Revenue', 'Total Operating Expenses', 'Gross Profit']]"
      ],
      "execution_count": 113,
      "outputs": []
    },
    {
      "cell_type": "code",
      "metadata": {
        "colab": {
          "base_uri": "https://localhost:8080/",
          "height": 297
        },
        "id": "qlNlszSzsrDB",
        "outputId": "603af07f-4dc1-4a5a-b237-0f3cb494e4ff"
      },
      "source": [
        "df_fin"
      ],
      "execution_count": 114,
      "outputs": [
        {
          "output_type": "execute_result",
          "data": {
            "text/html": [
              "<div>\n",
              "<style scoped>\n",
              "    .dataframe tbody tr th:only-of-type {\n",
              "        vertical-align: middle;\n",
              "    }\n",
              "\n",
              "    .dataframe tbody tr th {\n",
              "        vertical-align: top;\n",
              "    }\n",
              "\n",
              "    .dataframe thead th {\n",
              "        text-align: right;\n",
              "    }\n",
              "</style>\n",
              "<table border=\"1\" class=\"dataframe\">\n",
              "  <thead>\n",
              "    <tr style=\"text-align: right;\">\n",
              "      <th></th>\n",
              "      <th>2020</th>\n",
              "      <th>2019</th>\n",
              "      <th>2018</th>\n",
              "      <th>2017</th>\n",
              "    </tr>\n",
              "    <tr>\n",
              "      <th>Category</th>\n",
              "      <th></th>\n",
              "      <th></th>\n",
              "      <th></th>\n",
              "      <th></th>\n",
              "    </tr>\n",
              "  </thead>\n",
              "  <tbody>\n",
              "    <tr>\n",
              "      <th>Operating Income</th>\n",
              "      <td>2.485e+09</td>\n",
              "      <td>5.775e+09</td>\n",
              "      <td>3.648e+09</td>\n",
              "      <td>8.145e+09</td>\n",
              "    </tr>\n",
              "    <tr>\n",
              "      <th>Net Income</th>\n",
              "      <td>-3.519e+09</td>\n",
              "      <td>5.537e+09</td>\n",
              "      <td>5.269e+09</td>\n",
              "      <td>4.552e+09</td>\n",
              "    </tr>\n",
              "    <tr>\n",
              "      <th>Research Development</th>\n",
              "      <td>2.582e+09</td>\n",
              "      <td>2.452e+09</td>\n",
              "      <td>1.878e+09</td>\n",
              "      <td>2.427e+09</td>\n",
              "    </tr>\n",
              "    <tr>\n",
              "      <th>Cost Of Revenue</th>\n",
              "      <td>4.757e+10</td>\n",
              "      <td>3.4417e+10</td>\n",
              "      <td>2.7465e+10</td>\n",
              "      <td>4.4201e+10</td>\n",
              "    </tr>\n",
              "    <tr>\n",
              "      <th>Total Revenue</th>\n",
              "      <td>5.6587e+10</td>\n",
              "      <td>4.5349e+10</td>\n",
              "      <td>3.4701e+10</td>\n",
              "      <td>5.9837e+10</td>\n",
              "    </tr>\n",
              "    <tr>\n",
              "      <th>Total Operating Expenses</th>\n",
              "      <td>5.4102e+10</td>\n",
              "      <td>3.9574e+10</td>\n",
              "      <td>3.1053e+10</td>\n",
              "      <td>5.1692e+10</td>\n",
              "    </tr>\n",
              "    <tr>\n",
              "      <th>Gross Profit</th>\n",
              "      <td>9.017e+09</td>\n",
              "      <td>1.0932e+10</td>\n",
              "      <td>7.236e+09</td>\n",
              "      <td>1.5636e+10</td>\n",
              "    </tr>\n",
              "  </tbody>\n",
              "</table>\n",
              "</div>"
            ],
            "text/plain": [
              "                                2020        2019        2018        2017\n",
              "Category                                                                \n",
              "Operating Income           2.485e+09   5.775e+09   3.648e+09   8.145e+09\n",
              "Net Income                -3.519e+09   5.537e+09   5.269e+09   4.552e+09\n",
              "Research Development       2.582e+09   2.452e+09   1.878e+09   2.427e+09\n",
              "Cost Of Revenue            4.757e+10  3.4417e+10  2.7465e+10  4.4201e+10\n",
              "Total Revenue             5.6587e+10  4.5349e+10  3.4701e+10  5.9837e+10\n",
              "Total Operating Expenses  5.4102e+10  3.9574e+10  3.1053e+10  5.1692e+10\n",
              "Gross Profit               9.017e+09  1.0932e+10   7.236e+09  1.5636e+10"
            ]
          },
          "metadata": {},
          "execution_count": 114
        }
      ]
    },
    {
      "cell_type": "code",
      "metadata": {
        "id": "-U9kyzfM54t2"
      },
      "source": [
        ""
      ],
      "execution_count": 114,
      "outputs": []
    },
    {
      "cell_type": "code",
      "metadata": {
        "id": "p-EI6f-TpSKx"
      },
      "source": [
        "operating_income_list = list(df_fin.loc['Operating Income'])\n",
        "net_income_list = list(df_fin.loc['Net Income'])\n",
        "research_list = list(df_fin.loc['Research Development'])\n",
        "cost_of_revenue = list(df_fin.loc['Cost Of Revenue'])\n",
        "total_revenue_list = list(df_fin.loc['Total Revenue'])\n",
        "total_Operating_expense_list = list(df_fin.loc['Total Operating Expenses'])\n",
        "gross_profit_list = list(df_fin.loc['Gross Profit'])"
      ],
      "execution_count": 115,
      "outputs": []
    },
    {
      "cell_type": "code",
      "metadata": {
        "colab": {
          "base_uri": "https://localhost:8080/"
        },
        "id": "rBv2VB6-eK1c",
        "outputId": "32067d1c-2a36-4f14-b24f-6be90822fa29"
      },
      "source": [
        "growth_rate = (total_revenue_list[0]-total_revenue_list[1])/total_revenue_list[1]\n",
        "print(growth_rate)"
      ],
      "execution_count": 116,
      "outputs": [
        {
          "output_type": "stream",
          "text": [
            "0.24781141811285806\n"
          ],
          "name": "stdout"
        }
      ]
    },
    {
      "cell_type": "code",
      "metadata": {
        "colab": {
          "base_uri": "https://localhost:8080/",
          "height": 700
        },
        "id": "vwQeUS_X9skI",
        "outputId": "28648793-2ee8-4363-a939-295ef4ee4151"
      },
      "source": [
        "cashflow"
      ],
      "execution_count": 117,
      "outputs": [
        {
          "output_type": "execute_result",
          "data": {
            "text/html": [
              "<div>\n",
              "<style scoped>\n",
              "    .dataframe tbody tr th:only-of-type {\n",
              "        vertical-align: middle;\n",
              "    }\n",
              "\n",
              "    .dataframe tbody tr th {\n",
              "        vertical-align: top;\n",
              "    }\n",
              "\n",
              "    .dataframe thead th {\n",
              "        text-align: right;\n",
              "    }\n",
              "</style>\n",
              "<table border=\"1\" class=\"dataframe\">\n",
              "  <thead>\n",
              "    <tr style=\"text-align: right;\">\n",
              "      <th></th>\n",
              "      <th>2020</th>\n",
              "      <th>2019</th>\n",
              "      <th>2018</th>\n",
              "      <th>2017</th>\n",
              "    </tr>\n",
              "    <tr>\n",
              "      <th>Category</th>\n",
              "      <th></th>\n",
              "      <th></th>\n",
              "      <th></th>\n",
              "      <th></th>\n",
              "    </tr>\n",
              "  </thead>\n",
              "  <tbody>\n",
              "    <tr>\n",
              "      <th>Change To Liabilities</th>\n",
              "      <td>-5.370000e+08</td>\n",
              "      <td>2.345000e+09</td>\n",
              "      <td>3.063000e+09</td>\n",
              "      <td>1.571000e+09</td>\n",
              "    </tr>\n",
              "    <tr>\n",
              "      <th>Total Cashflows From Investing Activities</th>\n",
              "      <td>3.102000e+09</td>\n",
              "      <td>-3.092000e+09</td>\n",
              "      <td>-1.697300e+10</td>\n",
              "      <td>-3.019000e+09</td>\n",
              "    </tr>\n",
              "    <tr>\n",
              "      <th>Net Borrowings</th>\n",
              "      <td>-1.611900e+10</td>\n",
              "      <td>-1.816000e+09</td>\n",
              "      <td>1.044700e+10</td>\n",
              "      <td>3.079000e+09</td>\n",
              "    </tr>\n",
              "    <tr>\n",
              "      <th>Total Cash From Financing Activities</th>\n",
              "      <td>-5.274000e+09</td>\n",
              "      <td>-4.564000e+09</td>\n",
              "      <td>7.965000e+09</td>\n",
              "      <td>-9.930000e+08</td>\n",
              "    </tr>\n",
              "    <tr>\n",
              "      <th>Change To Operating Activities</th>\n",
              "      <td>-4.450000e+08</td>\n",
              "      <td>-9.840000e+08</td>\n",
              "      <td>-6.450000e+08</td>\n",
              "      <td>-1.010000e+08</td>\n",
              "    </tr>\n",
              "    <tr>\n",
              "      <th>Issuance Of Stock</th>\n",
              "      <td>1.500000e+07</td>\n",
              "      <td>2.700000e+07</td>\n",
              "      <td>3.600000e+07</td>\n",
              "      <td>3.100000e+07</td>\n",
              "    </tr>\n",
              "    <tr>\n",
              "      <th>Net Income</th>\n",
              "      <td>-3.519000e+09</td>\n",
              "      <td>5.537000e+09</td>\n",
              "      <td>5.269000e+09</td>\n",
              "      <td>4.552000e+09</td>\n",
              "    </tr>\n",
              "    <tr>\n",
              "      <th>Change In Cash</th>\n",
              "      <td>1.412000e+09</td>\n",
              "      <td>1.208000e+09</td>\n",
              "      <td>-2.806000e+09</td>\n",
              "      <td>1.829000e+09</td>\n",
              "    </tr>\n",
              "    <tr>\n",
              "      <th>Repurchase Of Stock</th>\n",
              "      <td>-4.700000e+07</td>\n",
              "      <td>-1.510000e+08</td>\n",
              "      <td>-3.250000e+08</td>\n",
              "      <td>-1.453000e+09</td>\n",
              "    </tr>\n",
              "    <tr>\n",
              "      <th>Effect Of Exchange Rate</th>\n",
              "      <td>-2.200000e+07</td>\n",
              "      <td>-1.900000e+07</td>\n",
              "      <td>-1.200000e+08</td>\n",
              "      <td>2.100000e+08</td>\n",
              "    </tr>\n",
              "    <tr>\n",
              "      <th>Total Cash From Operating Activities</th>\n",
              "      <td>3.606000e+09</td>\n",
              "      <td>8.883000e+09</td>\n",
              "      <td>6.322000e+09</td>\n",
              "      <td>5.631000e+09</td>\n",
              "    </tr>\n",
              "    <tr>\n",
              "      <th>Depreciation</th>\n",
              "      <td>4.156000e+09</td>\n",
              "      <td>2.708000e+09</td>\n",
              "      <td>1.896000e+09</td>\n",
              "      <td>2.140000e+09</td>\n",
              "    </tr>\n",
              "    <tr>\n",
              "      <th>Other Cashflows From Investing Activities</th>\n",
              "      <td>-3.640000e+08</td>\n",
              "      <td>-3.390000e+08</td>\n",
              "      <td>2.430000e+08</td>\n",
              "      <td>-8.500000e+07</td>\n",
              "    </tr>\n",
              "    <tr>\n",
              "      <th>Dividends Paid</th>\n",
              "      <td>-2.732000e+09</td>\n",
              "      <td>-2.442000e+09</td>\n",
              "      <td>-2.170000e+09</td>\n",
              "      <td>-2.074000e+09</td>\n",
              "    </tr>\n",
              "    <tr>\n",
              "      <th>Change To Inventory</th>\n",
              "      <td>4.120000e+08</td>\n",
              "      <td>-1.267000e+09</td>\n",
              "      <td>-4.170000e+08</td>\n",
              "      <td>-1.074000e+09</td>\n",
              "    </tr>\n",
              "    <tr>\n",
              "      <th>Change To Account Receivables</th>\n",
              "      <td>1.381000e+09</td>\n",
              "      <td>-5.910000e+08</td>\n",
              "      <td>-1.798000e+09</td>\n",
              "      <td>-4.480000e+08</td>\n",
              "    </tr>\n",
              "    <tr>\n",
              "      <th>Other Cashflows From Financing Activities</th>\n",
              "      <td>1.360900e+10</td>\n",
              "      <td>-1.820000e+08</td>\n",
              "      <td>-2.300000e+07</td>\n",
              "      <td>-5.760000e+08</td>\n",
              "    </tr>\n",
              "    <tr>\n",
              "      <th>Change To Netincome</th>\n",
              "      <td>2.158000e+09</td>\n",
              "      <td>1.135000e+09</td>\n",
              "      <td>-1.046000e+09</td>\n",
              "      <td>-2.588000e+09</td>\n",
              "    </tr>\n",
              "    <tr>\n",
              "      <th>Capital Expenditures</th>\n",
              "      <td>-1.795000e+09</td>\n",
              "      <td>-1.868000e+09</td>\n",
              "      <td>-1.467000e+09</td>\n",
              "      <td>-2.014000e+09</td>\n",
              "    </tr>\n",
              "    <tr>\n",
              "      <th>Investments</th>\n",
              "      <td>NaN</td>\n",
              "      <td>NaN</td>\n",
              "      <td>NaN</td>\n",
              "      <td>5.960000e+08</td>\n",
              "    </tr>\n",
              "  </tbody>\n",
              "</table>\n",
              "</div>"
            ],
            "text/plain": [
              "                                                   2020  ...          2017\n",
              "Category                                                 ...              \n",
              "Change To Liabilities                     -5.370000e+08  ...  1.571000e+09\n",
              "Total Cashflows From Investing Activities  3.102000e+09  ... -3.019000e+09\n",
              "Net Borrowings                            -1.611900e+10  ...  3.079000e+09\n",
              "Total Cash From Financing Activities      -5.274000e+09  ... -9.930000e+08\n",
              "Change To Operating Activities            -4.450000e+08  ... -1.010000e+08\n",
              "Issuance Of Stock                          1.500000e+07  ...  3.100000e+07\n",
              "Net Income                                -3.519000e+09  ...  4.552000e+09\n",
              "Change In Cash                             1.412000e+09  ...  1.829000e+09\n",
              "Repurchase Of Stock                       -4.700000e+07  ... -1.453000e+09\n",
              "Effect Of Exchange Rate                   -2.200000e+07  ...  2.100000e+08\n",
              "Total Cash From Operating Activities       3.606000e+09  ...  5.631000e+09\n",
              "Depreciation                               4.156000e+09  ...  2.140000e+09\n",
              "Other Cashflows From Investing Activities -3.640000e+08  ... -8.500000e+07\n",
              "Dividends Paid                            -2.732000e+09  ... -2.074000e+09\n",
              "Change To Inventory                        4.120000e+08  ... -1.074000e+09\n",
              "Change To Account Receivables              1.381000e+09  ... -4.480000e+08\n",
              "Other Cashflows From Financing Activities  1.360900e+10  ... -5.760000e+08\n",
              "Change To Netincome                        2.158000e+09  ... -2.588000e+09\n",
              "Capital Expenditures                      -1.795000e+09  ... -2.014000e+09\n",
              "Investments                                         NaN  ...  5.960000e+08\n",
              "\n",
              "[20 rows x 4 columns]"
            ]
          },
          "metadata": {},
          "execution_count": 117
        }
      ]
    },
    {
      "cell_type": "code",
      "metadata": {
        "id": "daq_dv2ZscCd"
      },
      "source": [
        "capX_list = list(cashflow.loc['Capital Expenditures'])\n",
        "depreciation_list = list(cashflow.loc['Depreciation'])"
      ],
      "execution_count": 118,
      "outputs": []
    },
    {
      "cell_type": "code",
      "metadata": {
        "id": "JVQ0THUJ9wui"
      },
      "source": [
        "df_cash = cashflow.loc[['Depreciation', 'Net Income']]"
      ],
      "execution_count": 119,
      "outputs": []
    },
    {
      "cell_type": "code",
      "metadata": {
        "id": "_agmOHcS_VGh"
      },
      "source": [
        "df_bal = bal_sheet.loc[['Cash', 'Inventory']]"
      ],
      "execution_count": 120,
      "outputs": []
    },
    {
      "cell_type": "code",
      "metadata": {
        "colab": {
          "base_uri": "https://localhost:8080/"
        },
        "id": "DIqHqSQYnrHv",
        "outputId": "d542108d-4eb7-4974-90c5-71a6d1d143f0"
      },
      "source": [
        "cash_list = list(bal_sheet.loc['Cash'])\n",
        "cash_list"
      ],
      "execution_count": 121,
      "outputs": [
        {
          "output_type": "execute_result",
          "data": {
            "text/plain": [
              "[8802000000.0, 4937000000.0, 6152000000.0, 8985000000.0]"
            ]
          },
          "metadata": {},
          "execution_count": 121
        }
      ]
    },
    {
      "cell_type": "code",
      "metadata": {
        "colab": {
          "base_uri": "https://localhost:8080/"
        },
        "id": "HaYiz3eYeKBB",
        "outputId": "7341c4f5-4042-4cda-e5b2-699fc173cd3c"
      },
      "source": [
        "research_list"
      ],
      "execution_count": 122,
      "outputs": [
        {
          "output_type": "execute_result",
          "data": {
            "text/plain": [
              "[2582000000.0, 2452000000.0, 1878000000.0, 2427000000.0]"
            ]
          },
          "metadata": {},
          "execution_count": 122
        }
      ]
    },
    {
      "cell_type": "code",
      "metadata": {
        "colab": {
          "base_uri": "https://localhost:8080/"
        },
        "id": "dri01Vah6DJ0",
        "outputId": "7134d6a1-a0d9-4432-b3e5-a026d070f8f5"
      },
      "source": [
        "total_revenue_list"
      ],
      "execution_count": 123,
      "outputs": [
        {
          "output_type": "execute_result",
          "data": {
            "text/plain": [
              "[56587000000.0, 45349000000.0, 34701000000.0, 59837000000.0]"
            ]
          },
          "metadata": {},
          "execution_count": 123
        }
      ]
    },
    {
      "cell_type": "code",
      "metadata": {
        "colab": {
          "base_uri": "https://localhost:8080/"
        },
        "id": "UpwuWflmxn2U",
        "outputId": "0686a80b-d58c-4600-b1b1-0c8ad2e3f8a6"
      },
      "source": [
        "gross_margins_list = [gross_profit_list[0] /  total_revenue_list[0], gross_profit_list[1] /  total_revenue_list[1], gross_profit_list[2] /  total_revenue_list[2], gross_profit_list[3] /  total_revenue_list[3]]\n",
        "print(gross_margins_list)"
      ],
      "execution_count": 124,
      "outputs": [
        {
          "output_type": "stream",
          "text": [
            "[0.15934755332496864, 0.241063750027564, 0.2085242500216132, 0.2613098918729214]\n"
          ],
          "name": "stdout"
        }
      ]
    },
    {
      "cell_type": "code",
      "metadata": {
        "colab": {
          "base_uri": "https://localhost:8080/"
        },
        "id": "T9fJCg9ddEUI",
        "outputId": "9c905c2d-0a11-44f1-dfad-54f4b4326cca"
      },
      "source": [
        "SGA_Ratio = [sga_list[0]/ gross_profit_list[0], sga_list[1]/ gross_profit_list[1], sga_list[2]/ gross_profit_list[2], sga_list[3]/ gross_profit_list[3]]\n",
        "print(SGA_Ratio)"
      ],
      "execution_count": 125,
      "outputs": [
        {
          "output_type": "stream",
          "text": [
            "[0.4564711101253188, 0.2689352360043908, 0.2892482034273079, 0.37452033768227166]\n"
          ],
          "name": "stdout"
        }
      ]
    },
    {
      "cell_type": "code",
      "metadata": {
        "colab": {
          "base_uri": "https://localhost:8080/"
        },
        "id": "FK9aZVJVe8ql",
        "outputId": "4290cebd-ac77-4170-8bfe-f3bf3ec27e4f"
      },
      "source": [
        "try:\n",
        "  research_ratio = [research_list[0] / gross_profit_list[0],research_list[1] / gross_profit_list[1],research_list[2] / gross_profit_list[2],research_list[3] / gross_profit_list[3]]\n",
        "  print(research_ratio)\n",
        "except:\n",
        "  print('None')"
      ],
      "execution_count": 126,
      "outputs": [
        {
          "output_type": "stream",
          "text": [
            "[0.28634800931573695, 0.22429564581046468, 0.2595356550580431, 0.1552187260168841]\n"
          ],
          "name": "stdout"
        }
      ]
    },
    {
      "cell_type": "code",
      "metadata": {
        "colab": {
          "base_uri": "https://localhost:8080/"
        },
        "id": "x7OFoln0ff74",
        "outputId": "d514a20c-f44f-4c79-96c4-0372b966e2eb"
      },
      "source": [
        "depreciation_ratio = [depreciation_list[0] / gross_profit_list [0], depreciation_list[1] / gross_profit_list [1], depreciation_list[2] / gross_profit_list [2], depreciation_list[3] / gross_profit_list [3]]\n",
        "print(depreciation_ratio)"
      ],
      "execution_count": 127,
      "outputs": [
        {
          "output_type": "stream",
          "text": [
            "[0.4609071753354774, 0.24771313574826198, 0.2620232172470978, 0.13686364799181377]\n"
          ],
          "name": "stdout"
        }
      ]
    },
    {
      "cell_type": "code",
      "metadata": {
        "colab": {
          "base_uri": "https://localhost:8080/"
        },
        "id": "WnZLd4Hdgcxy",
        "outputId": "de86fab5-638c-4304-99b1-1fde4121d867"
      },
      "source": [
        "interest_ratio = [interest_list[0] / gross_profit_list[0], interest_list[1] / gross_profit_list[1], interest_list[2] / gross_profit_list[2], interest_list[3] / gross_profit_list[3]]\n",
        "print(interest_ratio)"
      ],
      "execution_count": 128,
      "outputs": [
        {
          "output_type": "stream",
          "text": [
            "[-0.15614949539758236, -0.15651298938894986, -0.16334991708126037, -0.0650422102839601]\n"
          ],
          "name": "stdout"
        }
      ]
    },
    {
      "cell_type": "code",
      "metadata": {
        "colab": {
          "base_uri": "https://localhost:8080/"
        },
        "id": "PYAZFItMWC2x",
        "outputId": "6726bcd1-7ca0-4781-b11e-91c0b81d380d"
      },
      "source": [
        "operating_cashflow_list = list(cashflow.loc['Total Cash From Operating Activities'])\n",
        "free_cashflow_list = [operating_cashflow_list[0] + capX_list[0], operating_cashflow_list[1] + capX_list[1], operating_cashflow_list[2] + capX_list[2], operating_cashflow_list[3] + capX_list[3]]\n",
        "print(free_cashflow_list)"
      ],
      "execution_count": 129,
      "outputs": [
        {
          "output_type": "stream",
          "text": [
            "[1811000000.0, 7015000000.0, 4855000000.0, 3617000000.0]\n"
          ],
          "name": "stdout"
        }
      ]
    },
    {
      "cell_type": "code",
      "metadata": {
        "id": "LYEZh_9erWkT"
      },
      "source": [
        "#ttm_cash = float(free_cash_flow_manual[0])\n",
        "last_year_cash = float(free_cashflow_list[0])\n",
        "two_year_cash = float(free_cashflow_list[1])\n",
        "three_year_cash = float(free_cashflow_list[2])\n",
        "four_year_cash = float(free_cashflow_list[3])\n"
      ],
      "execution_count": 130,
      "outputs": []
    },
    {
      "cell_type": "code",
      "metadata": {
        "colab": {
          "base_uri": "https://localhost:8080/"
        },
        "id": "dYX1-YTIr-Hf",
        "outputId": "f2ac8997-aba5-4d8b-e482-e8b482b79425"
      },
      "source": [
        "cashflow_growth_rate = [(last_year_cash- two_year_cash)/ two_year_cash, (two_year_cash - three_year_cash)/ three_year_cash, (three_year_cash - four_year_cash)/ four_year_cash]\n",
        "print(cashflow_growth_rate)"
      ],
      "execution_count": 131,
      "outputs": [
        {
          "output_type": "stream",
          "text": [
            "[-0.7418389166072701, 0.44490216271884653, 0.34227260160353884]\n"
          ],
          "name": "stdout"
        }
      ]
    },
    {
      "cell_type": "code",
      "metadata": {
        "colab": {
          "base_uri": "https://localhost:8080/"
        },
        "id": "BwBcaFRJ3qj-",
        "outputId": "a10bf8e9-4b40-426a-b743-d36e56f25491"
      },
      "source": [
        "dividend = ticker.info['dividendRate']\n",
        "print(dividend)"
      ],
      "execution_count": 132,
      "outputs": [
        {
          "output_type": "stream",
          "text": [
            "2.04\n"
          ],
          "name": "stdout"
        }
      ]
    },
    {
      "cell_type": "code",
      "metadata": {
        "colab": {
          "base_uri": "https://localhost:8080/"
        },
        "id": "8X_3IDh6cJRt",
        "outputId": "98b92868-a99f-4bfa-81af-76e109c6ce95"
      },
      "source": [
        "earnings_df = ticker.earnings\n",
        "earnings_list = list(ticker.earnings['Earnings'])\n",
        "print(earnings_list)\n",
        "eps_est_list = [earnings_list[0] / shares_outstanding, earnings_list[1] / shares_outstanding, earnings_list[2] / shares_outstanding]\n",
        "print(eps_est_list)\n"
      ],
      "execution_count": 133,
      "outputs": [
        {
          "output_type": "stream",
          "text": [
            "[4552000000, 5269000000, 5537000000, -3519000000]\n",
            "[3.018807990824012, 3.4943100403452814, 3.6720430239878197]\n"
          ],
          "name": "stdout"
        }
      ]
    },
    {
      "cell_type": "code",
      "metadata": {
        "colab": {
          "base_uri": "https://localhost:8080/"
        },
        "id": "7vH1J7TP5wfT",
        "outputId": "847163ed-eeb2-42e3-8fc2-60745c50cb29"
      },
      "source": [
        "total_assets_list = list(bal_sheet.loc['Total Assets'])\n",
        "liability_list = list(bal_sheet.loc['Total Liab'])\n",
        "Shareholdr_equity_list = [total_assets_list[0]-liability_list[0], total_assets_list[1]-liability_list[1], total_assets_list[2]-liability_list[2], total_assets_list[3]-liability_list[3]]\n",
        "\n",
        "print(total_assets_list)\n",
        "print(liability_list)\n",
        "print(Shareholdr_equity_list)"
      ],
      "execution_count": 134,
      "outputs": [
        {
          "output_type": "stream",
          "text": [
            "[162153000000.0, 139615000000.0, 134211000000.0, 96920000000.0]\n",
            "[88269000000.0, 95289000000.0, 93492000000.0, 65368000000.0]\n",
            "[73884000000.0, 44326000000.0, 40719000000.0, 31552000000.0]\n"
          ],
          "name": "stdout"
        }
      ]
    },
    {
      "cell_type": "markdown",
      "metadata": {
        "id": "Ak-dmsMQxBa8"
      },
      "source": [
        ""
      ]
    },
    {
      "cell_type": "code",
      "metadata": {
        "id": "d8ealcdP7YTa",
        "colab": {
          "base_uri": "https://localhost:8080/"
        },
        "outputId": "24425c8f-a736-4455-d25a-f87c35cc2f04"
      },
      "source": [
        "dividend_rate = str(ticker.info['dividendRate'])\n",
        "dividend_yield2 = str(ticker.info['dividendYield'])\n",
        "try:\n",
        "  dividend_yield = \"{:.2%}\".format(ticker.info['dividendYield'])\n",
        "except: \n",
        "  print('No Divs')\n",
        "print(dividend_yield)"
      ],
      "execution_count": 135,
      "outputs": [
        {
          "output_type": "stream",
          "text": [
            "2.39%\n"
          ],
          "name": "stdout"
        }
      ]
    },
    {
      "cell_type": "markdown",
      "metadata": {
        "id": "kPadsdKG4Qf4"
      },
      "source": [
        "\n",
        "\n",
        "```\n",
        "# This is formatted as code\n",
        "```\n",
        "\n",
        "# Data Conversions"
      ]
    },
    {
      "cell_type": "code",
      "metadata": {
        "colab": {
          "base_uri": "https://localhost:8080/"
        },
        "id": "MqD033-uZnVZ",
        "outputId": "f8f7988e-e68d-4acb-ae67-fb155fecff88"
      },
      "source": [
        "current_priceSTR= str(ticker.info['currentPrice'])\n",
        "gross_margin_current = f\"{gross_margin:.2%}\"\n",
        "gross_margin_hist = []\n",
        "for i in gross_margins_list:\n",
        "  gross_margin_hist.append(f\"{i:.2%}\")\n",
        "\n",
        "print(gross_margin_hist)\n",
        "\n",
        "gross_marginSTR= ', '.join(map(str, gross_margin_hist))\n",
        "  \n",
        "print(gross_marginSTR)"
      ],
      "execution_count": 136,
      "outputs": [
        {
          "output_type": "stream",
          "text": [
            "['15.93%', '24.11%', '20.85%', '26.13%']\n",
            "15.93%, 24.11%, 20.85%, 26.13%\n"
          ],
          "name": "stdout"
        }
      ]
    },
    {
      "cell_type": "code",
      "metadata": {
        "colab": {
          "base_uri": "https://localhost:8080/"
        },
        "id": "COpOsnHfI_2Z",
        "outputId": "116c7b30-8d43-48dd-fb4c-ad757b087740"
      },
      "source": [
        "years = [current_year - 1,current_year - 2, current_year - 3,current_year - 4]\n",
        "\n",
        "def merge(list1, list2):\n",
        "      \n",
        "    merged_list = tuple(zip(list1, list2)) \n",
        "    return merged_list\n",
        "      \n",
        "# Driver code\n",
        "earnings_tuples = merge(years, earnings_list)\n",
        "free_cash_merge = merge(years, free_cashflow_list)\n",
        "gross_margin_tuples = (merge(years, gross_margin_hist))\n",
        "SGA_Ratio_tuples = (merge(years,SGA_Ratio))\n",
        "research_ratio_tuples = merge(years,research_ratio)\n",
        "cashflow_growth = merge(years,cashflow_growth_rate)\n",
        "gross_profit_merge = merge(years,gross_profit_list)\n",
        "total_revenue_merge = merge(years,total_revenue_list)\n",
        "\n",
        "print(cashflow_growth)"
      ],
      "execution_count": 137,
      "outputs": [
        {
          "output_type": "stream",
          "text": [
            "((2020, -0.7418389166072701), (2019, 0.44490216271884653), (2018, 0.34227260160353884))\n"
          ],
          "name": "stdout"
        }
      ]
    },
    {
      "cell_type": "code",
      "metadata": {
        "colab": {
          "base_uri": "https://localhost:8080/",
          "height": 173
        },
        "id": "hhBq5iXfO86F",
        "outputId": "13eb902f-2ecd-4e32-a10d-664ba9d94068"
      },
      "source": [
        "# create DataFrame using data\n",
        "def tuples_to_df(tuple):\n",
        "  new_df = pd.DataFrame(tuple, columns =['Years', 'Measure'])\n",
        "  return new_df\n",
        "  \n",
        "\n",
        "sga_df = tuples_to_df(SGA_Ratio_tuples)\n",
        "research_df = tuples_to_df(research_ratio_tuples)\n",
        "research_df.Measure = (research_df.Measure * 100).round(decimals=2)\n",
        "gross_margin_df = tuples_to_df(gross_margin_tuples)\n",
        "cashflow_growth_df = tuples_to_df(cashflow_growth).round(decimals=2)\n",
        "grossprofit_df = tuples_to_df(gross_profit_merge).round(decimals=2)\n",
        "total_revenue_df = tuples_to_df(total_revenue_merge)\n",
        "free_cash_df = tuples_to_df(free_cash_merge)\n",
        "earnings_df = tuples_to_df(earnings_tuples)\n",
        "free_cash_df"
      ],
      "execution_count": 138,
      "outputs": [
        {
          "output_type": "execute_result",
          "data": {
            "text/html": [
              "<div>\n",
              "<style scoped>\n",
              "    .dataframe tbody tr th:only-of-type {\n",
              "        vertical-align: middle;\n",
              "    }\n",
              "\n",
              "    .dataframe tbody tr th {\n",
              "        vertical-align: top;\n",
              "    }\n",
              "\n",
              "    .dataframe thead th {\n",
              "        text-align: right;\n",
              "    }\n",
              "</style>\n",
              "<table border=\"1\" class=\"dataframe\">\n",
              "  <thead>\n",
              "    <tr style=\"text-align: right;\">\n",
              "      <th></th>\n",
              "      <th>Years</th>\n",
              "      <th>Measure</th>\n",
              "    </tr>\n",
              "  </thead>\n",
              "  <tbody>\n",
              "    <tr>\n",
              "      <th>0</th>\n",
              "      <td>2020</td>\n",
              "      <td>1.811000e+09</td>\n",
              "    </tr>\n",
              "    <tr>\n",
              "      <th>1</th>\n",
              "      <td>2019</td>\n",
              "      <td>7.015000e+09</td>\n",
              "    </tr>\n",
              "    <tr>\n",
              "      <th>2</th>\n",
              "      <td>2018</td>\n",
              "      <td>4.855000e+09</td>\n",
              "    </tr>\n",
              "    <tr>\n",
              "      <th>3</th>\n",
              "      <td>2017</td>\n",
              "      <td>3.617000e+09</td>\n",
              "    </tr>\n",
              "  </tbody>\n",
              "</table>\n",
              "</div>"
            ],
            "text/plain": [
              "   Years       Measure\n",
              "0   2020  1.811000e+09\n",
              "1   2019  7.015000e+09\n",
              "2   2018  4.855000e+09\n",
              "3   2017  3.617000e+09"
            ]
          },
          "metadata": {},
          "execution_count": 138
        }
      ]
    },
    {
      "cell_type": "code",
      "metadata": {
        "colab": {
          "base_uri": "https://localhost:8080/"
        },
        "id": "OrAyQ1iQ-Z42",
        "outputId": "91540dcf-9301-478f-d78e-810407575a74"
      },
      "source": [
        "free_cashflow_list"
      ],
      "execution_count": 139,
      "outputs": [
        {
          "output_type": "execute_result",
          "data": {
            "text/plain": [
              "[1811000000.0, 7015000000.0, 4855000000.0, 3617000000.0]"
            ]
          },
          "metadata": {},
          "execution_count": 139
        }
      ]
    },
    {
      "cell_type": "code",
      "metadata": {
        "colab": {
          "base_uri": "https://localhost:8080/",
          "height": 173
        },
        "id": "32iidcupZamt",
        "outputId": "c39c39cc-95f6-4416-d938-7f3009435896"
      },
      "source": [
        "total_revenue_df"
      ],
      "execution_count": 140,
      "outputs": [
        {
          "output_type": "execute_result",
          "data": {
            "text/html": [
              "<div>\n",
              "<style scoped>\n",
              "    .dataframe tbody tr th:only-of-type {\n",
              "        vertical-align: middle;\n",
              "    }\n",
              "\n",
              "    .dataframe tbody tr th {\n",
              "        vertical-align: top;\n",
              "    }\n",
              "\n",
              "    .dataframe thead th {\n",
              "        text-align: right;\n",
              "    }\n",
              "</style>\n",
              "<table border=\"1\" class=\"dataframe\">\n",
              "  <thead>\n",
              "    <tr style=\"text-align: right;\">\n",
              "      <th></th>\n",
              "      <th>Years</th>\n",
              "      <th>Measure</th>\n",
              "    </tr>\n",
              "  </thead>\n",
              "  <tbody>\n",
              "    <tr>\n",
              "      <th>0</th>\n",
              "      <td>2020</td>\n",
              "      <td>5.658700e+10</td>\n",
              "    </tr>\n",
              "    <tr>\n",
              "      <th>1</th>\n",
              "      <td>2019</td>\n",
              "      <td>4.534900e+10</td>\n",
              "    </tr>\n",
              "    <tr>\n",
              "      <th>2</th>\n",
              "      <td>2018</td>\n",
              "      <td>3.470100e+10</td>\n",
              "    </tr>\n",
              "    <tr>\n",
              "      <th>3</th>\n",
              "      <td>2017</td>\n",
              "      <td>5.983700e+10</td>\n",
              "    </tr>\n",
              "  </tbody>\n",
              "</table>\n",
              "</div>"
            ],
            "text/plain": [
              "   Years       Measure\n",
              "0   2020  5.658700e+10\n",
              "1   2019  4.534900e+10\n",
              "2   2018  3.470100e+10\n",
              "3   2017  5.983700e+10"
            ]
          },
          "metadata": {},
          "execution_count": 140
        }
      ]
    },
    {
      "cell_type": "code",
      "metadata": {
        "colab": {
          "base_uri": "https://localhost:8080/",
          "height": 173
        },
        "id": "kTwrAuqa-zni",
        "outputId": "e4c76485-748b-4880-fd16-6b6774136d90"
      },
      "source": [
        "earnings_df"
      ],
      "execution_count": 141,
      "outputs": [
        {
          "output_type": "execute_result",
          "data": {
            "text/html": [
              "<div>\n",
              "<style scoped>\n",
              "    .dataframe tbody tr th:only-of-type {\n",
              "        vertical-align: middle;\n",
              "    }\n",
              "\n",
              "    .dataframe tbody tr th {\n",
              "        vertical-align: top;\n",
              "    }\n",
              "\n",
              "    .dataframe thead th {\n",
              "        text-align: right;\n",
              "    }\n",
              "</style>\n",
              "<table border=\"1\" class=\"dataframe\">\n",
              "  <thead>\n",
              "    <tr style=\"text-align: right;\">\n",
              "      <th></th>\n",
              "      <th>Years</th>\n",
              "      <th>Measure</th>\n",
              "    </tr>\n",
              "  </thead>\n",
              "  <tbody>\n",
              "    <tr>\n",
              "      <th>0</th>\n",
              "      <td>2020</td>\n",
              "      <td>4552000000</td>\n",
              "    </tr>\n",
              "    <tr>\n",
              "      <th>1</th>\n",
              "      <td>2019</td>\n",
              "      <td>5269000000</td>\n",
              "    </tr>\n",
              "    <tr>\n",
              "      <th>2</th>\n",
              "      <td>2018</td>\n",
              "      <td>5537000000</td>\n",
              "    </tr>\n",
              "    <tr>\n",
              "      <th>3</th>\n",
              "      <td>2017</td>\n",
              "      <td>-3519000000</td>\n",
              "    </tr>\n",
              "  </tbody>\n",
              "</table>\n",
              "</div>"
            ],
            "text/plain": [
              "   Years     Measure\n",
              "0   2020  4552000000\n",
              "1   2019  5269000000\n",
              "2   2018  5537000000\n",
              "3   2017 -3519000000"
            ]
          },
          "metadata": {},
          "execution_count": 141
        }
      ]
    },
    {
      "cell_type": "markdown",
      "metadata": {
        "id": "27i99HKq5faS"
      },
      "source": [
        "# Charts and Tables"
      ]
    },
    {
      "cell_type": "code",
      "metadata": {
        "colab": {
          "base_uri": "https://localhost:8080/",
          "height": 352
        },
        "id": "brOLp8n2iw84",
        "outputId": "69c49125-6b73-4799-96ef-2c5672d7a591"
      },
      "source": [
        "fig3 = plt.figure(3,(15,5))\n",
        "rev_plot= fig3.add_subplot(121)\n",
        "rev_plot.plot(total_revenue_df.Years,total_revenue_df.Measure, 'go-')\n",
        "rev_plot.set_ylabel('Revenue in Billions')\n",
        "rev_plot.set_title('Total Revenue')\n",
        "rev_plot.xaxis.set_major_locator(MaxNLocator(integer=True))\n",
        "earnings_plot = fig3.add_subplot(122)\n",
        "earnings_plot.plot(earnings_df.Years, earnings_df.Measure, 'r^-')\n",
        "earnings_plot.xaxis.set_major_locator(MaxNLocator(integer=True))\n",
        "earnings_plot.set_title('Earnings')\n",
        "earnings_plot.set_ylabel('Earnings in Billions')\n",
        "plt.show()\n",
        "plt.savefig('earnings and revenue.png')\n",
        "fig3.savefig('earnings and revenue.png')"
      ],
      "execution_count": 142,
      "outputs": [
        {
          "output_type": "display_data",
          "data": {
            "image/png": "[encoded data removed]",
            "text/plain": [
              "<Figure size 1080x360 with 2 Axes>"
            ]
          },
          "metadata": {
            "needs_background": "light"
          }
        },
        {
          "output_type": "display_data",
          "data": {
            "text/plain": [
              "<Figure size 432x288 with 0 Axes>"
            ]
          },
          "metadata": {}
        }
      ]
    },
    {
      "cell_type": "code",
      "metadata": {
        "colab": {
          "base_uri": "https://localhost:8080/",
          "height": 387
        },
        "id": "1v0KeXBwjDs2",
        "outputId": "5fe191ac-ebd4-43c8-c1d7-f1e3db96eeae"
      },
      "source": [
        "current_recommendations_1yr['To Grade'].value_counts().plot(kind = 'bar', figsize=(15,5))\n",
        "plt.show()\n",
        "plt.savefig('recommendations bar chart.png')"
      ],
      "execution_count": 143,
      "outputs": [
        {
          "output_type": "display_data",
          "data": {
            "image/png": "[encoded data removed]",
            "text/plain": [
              "<Figure size 1080x360 with 1 Axes>"
            ]
          },
          "metadata": {
            "needs_background": "light"
          }
        },
        {
          "output_type": "display_data",
          "data": {
            "text/plain": [
              "<Figure size 432x288 with 0 Axes>"
            ]
          },
          "metadata": {}
        }
      ]
    },
    {
      "cell_type": "code",
      "metadata": {
        "colab": {
          "base_uri": "https://localhost:8080/",
          "height": 369
        },
        "id": "YSzkE8CZ-KYr",
        "outputId": "192f9c1d-b882-4f83-de9c-8bacae1c692c"
      },
      "source": [
        "ticker_hist = ticker.history()\n",
        "closing_prices =ticker_hist['Close']\n",
        "closing_prices.plot(kind = 'line', figsize = (15,5))\n",
        "plt.xlabel = 'Date'\n",
        "plt.ylabel = 'Closing Price'\n",
        "plt.savefig('close price fig.jpg')"
      ],
      "execution_count": 144,
      "outputs": [
        {
          "output_type": "display_data",
          "data": {
            "image/png": "[encoded data removed]",
            "text/plain": [
              "<Figure size 1080x360 with 1 Axes>"
            ]
          },
          "metadata": {
            "needs_background": "light"
          }
        }
      ]
    },
    {
      "cell_type": "code",
      "metadata": {
        "colab": {
          "base_uri": "https://localhost:8080/",
          "height": 276
        },
        "id": "Q3_h6mWstjaZ",
        "outputId": "83463907-fd9f-41f7-f19e-a86c645e3629"
      },
      "source": [
        "cashflow_dict = {'index':[0,1,2,3], 'period': ['2020', '2019', '2018', '2017'], 'cashflow':[last_year_cash,two_year_cash,three_year_cash,four_year_cash]}\n",
        "    \n",
        "   # 'ttm': ttm_cash, '2020': last_year_cash, '2019': two_year_cash, '2018': three_year_cash, '2017': four_year_cash}\n",
        "cashflow_dataframe = pd.DataFrame.from_dict(cashflow_dict)\n",
        "cashflow_dataframe = cashflow_dataframe.sort_values(by= 'index', ascending=False)\n",
        "plt.plot(cashflow_dataframe.period, cashflow_dataframe.cashflow)\n",
        "plt.show()"
      ],
      "execution_count": 145,
      "outputs": [
        {
          "output_type": "display_data",
          "data": {
            "image/png": "[encoded data removed]",
            "text/plain": [
              "<Figure size 432x288 with 1 Axes>"
            ]
          },
          "metadata": {
            "needs_background": "light"
          }
        }
      ]
    },
    {
      "cell_type": "code",
      "metadata": {
        "colab": {
          "base_uri": "https://localhost:8080/"
        },
        "id": "pZFrtu79F8x0",
        "outputId": "1df4f9b0-8298-444e-b9e0-f4969a20395a"
      },
      "source": [
        "print(plt.style.available)"
      ],
      "execution_count": 146,
      "outputs": [
        {
          "output_type": "stream",
          "text": [
            "['Solarize_Light2', '_classic_test_patch', 'bmh', 'classic', 'dark_background', 'fast', 'fivethirtyeight', 'ggplot', 'grayscale', 'seaborn', 'seaborn-bright', 'seaborn-colorblind', 'seaborn-dark', 'seaborn-dark-palette', 'seaborn-darkgrid', 'seaborn-deep', 'seaborn-muted', 'seaborn-notebook', 'seaborn-paper', 'seaborn-pastel', 'seaborn-poster', 'seaborn-talk', 'seaborn-ticks', 'seaborn-white', 'seaborn-whitegrid', 'tableau-colorblind10']\n"
          ],
          "name": "stdout"
        }
      ]
    },
    {
      "cell_type": "code",
      "metadata": {
        "id": "L3FMVC8EGfQT"
      },
      "source": [
        "plt.style.use('seaborn')"
      ],
      "execution_count": 147,
      "outputs": []
    },
    {
      "cell_type": "code",
      "metadata": {
        "id": "4tYOKbO7rl9t"
      },
      "source": [
        "gross_margin_df = gross_margin_df.sort_index(ascending=False)"
      ],
      "execution_count": 148,
      "outputs": []
    },
    {
      "cell_type": "code",
      "metadata": {
        "colab": {
          "base_uri": "https://localhost:8080/",
          "height": 155
        },
        "id": "cxJJCcwOkitR",
        "outputId": "dd83557c-ea0b-447d-e95b-e3926ce61aa2"
      },
      "source": [
        "fig, ax =plt.subplots(figsize=(4,2))\n",
        "ax.axis('tight')\n",
        "ax.axis('off')\n",
        "the_table = ax.table(cellText = gross_margin_df.values,colLabels=sga_df.columns,loc='center')\n",
        "ax.set_title('Gross Margins')\n",
        "\n",
        "plt.savefig('sgaTbl.png')"
      ],
      "execution_count": 149,
      "outputs": [
        {
          "output_type": "display_data",
          "data": {
            "image/png": "[encoded data removed]",
            "text/plain": [
              "<Figure size 288x144 with 1 Axes>"
            ]
          },
          "metadata": {}
        }
      ]
    },
    {
      "cell_type": "code",
      "metadata": {
        "colab": {
          "base_uri": "https://localhost:8080/",
          "height": 263
        },
        "id": "SKWEED2qN3FF",
        "outputId": "2d8f0afb-44e8-400e-d24c-cc2cbdfba571"
      },
      "source": [
        "fig, ax =plt.subplots(figsize=(15,4))\n",
        "ax.axis('tight')\n",
        "ax.axis('off')\n",
        "the_table = ax.table(cellText = current_recommendations_1yr.values,colLabels=current_recommendations_6mo.columns,loc='center')\n",
        "ax.set_title('Rolling 12 mo. Recommendations')\n",
        "plt.savefig('Recommendations.png')"
      ],
      "execution_count": 150,
      "outputs": [
        {
          "output_type": "display_data",
          "data": {
            "image/png": "[encoded data removed]",
            "text/plain": [
              "<Figure size 1080x288 with 1 Axes>"
            ]
          },
          "metadata": {}
        }
      ]
    },
    {
      "cell_type": "code",
      "metadata": {
        "colab": {
          "base_uri": "https://localhost:8080/",
          "height": 568
        },
        "id": "KzGRG5Vzt_YB",
        "outputId": "7ca38b3b-a7e8-4c2f-dad0-6c69b1e55c89"
      },
      "source": [
        "fig1 = plt.figure(1,figsize= (20,10))\n",
        "fig1.suptitle('Cashflow and Revenue Growth', fontsize = 20)\n",
        "\n",
        "def billionsFormatter(x, pos):\n",
        "  return \"$ {0}B\".format(x/1000000000)\n",
        "\n",
        "def percentFormatter(x,pos):\n",
        "  return \"{0:0.2f} %\".format(x*100)\n",
        "\n",
        "\n",
        "free_cash_plot = fig1.add_subplot(221)\n",
        "free_cash_growth = fig1.add_subplot(222)\n",
        "gross_margin_growth = fig1.add_subplot(224)\n",
        "gross_profit_chart = fig1.add_subplot(223)\n",
        "\n",
        "free_cash_plot.plot(cashflow_dataframe.period, cashflow_dataframe.cashflow, 'go-')\n",
        "free_cash_plot.set_ylabel('Free Cashflow in Billions')\n",
        "free_cash_plot.set_title('Free Cashflow', fontsize = 16)\n",
        "free_cash_plot.yaxis.set_major_formatter(plt.FuncFormatter(billionsFormatter))\n",
        "\n",
        "\n",
        "free_cash_growth.plot(cashflow_growth_df.Years, cashflow_growth_df.Measure, 'ko--')\n",
        "free_cash_growth.xaxis.set_major_locator(MaxNLocator(integer=True))\n",
        "free_cash_growth.set_ylabel('% Growth')\n",
        "free_cash_growth.set_title('Free Cashflow Growth', fontsize = 16)\n",
        "#free_cash_growth.yaxis.set_major_formatter(ticker.PercentFormatter(xmax=5))\n",
        "free_cash_growth.yaxis.set_major_formatter(plt.FuncFormatter(percentFormatter))\n",
        "\n",
        "gross_margin_growth.plot(gross_margin_df.Years, gross_margin_df.Measure, 'c^-')\n",
        "gross_margin_growth.xaxis.set_major_locator(MaxNLocator(integer=True))\n",
        "gross_margin_growth.set_ylabel('Gross Margin %')\n",
        "gross_margin_growth.set_title('Gross Margins', fontsize = 16)\n",
        "#gross_margin_growth.set_ylim(20, 80)\n",
        "\n",
        "\n",
        "gross_profit_chart.plot(grossprofit_df.Years, grossprofit_df.Measure)\n",
        "gross_profit_chart.xaxis.set_major_locator(MaxNLocator(integer=True))\n",
        "gross_profit_chart.set_ylabel('Gross Profits in Billions')\n",
        "gross_profit_chart.set_title('Gross Profits', fontsize = 16)\n",
        "#gross_profit_chart.yaxis.set_major_formatter(ticker.StrMethodFormatter('${x:0.2f}'))\n",
        "gross_profit_chart.yaxis.set_major_formatter(plt.FuncFormatter(billionsFormatter))\n",
        "\n",
        "\n",
        "plt.show()\n",
        "\n",
        "fig1.savefig('profits and cash.png')\n",
        "\n"
      ],
      "execution_count": 151,
      "outputs": [
        {
          "output_type": "display_data",
          "data": {
            "image/png": "[encoded data removed]",
            "text/plain": [
              "<Figure size 1440x720 with 4 Axes>"
            ]
          },
          "metadata": {}
        }
      ]
    },
    {
      "cell_type": "code",
      "metadata": {
        "colab": {
          "base_uri": "https://localhost:8080/"
        },
        "id": "CbplGY_zQB_o",
        "outputId": "3d3bcc32-c3d3-4bbf-8668-337e08ce5a69"
      },
      "source": [
        "(current_recommendations_6mo['To Grade'])"
      ],
      "execution_count": 152,
      "outputs": [
        {
          "output_type": "execute_result",
          "data": {
            "text/plain": [
              "10      Outperform\n",
              "11        Positive\n",
              "12      Outperform\n",
              "13      Overweight\n",
              "14             Buy\n",
              "15    Equal-Weight\n",
              "16      Outperform\n",
              "17             Buy\n",
              "18        Positive\n",
              "19             Buy\n",
              "Name: To Grade, dtype: object"
            ]
          },
          "metadata": {},
          "execution_count": 152
        }
      ]
    },
    {
      "cell_type": "markdown",
      "metadata": {
        "id": "Ayg2mAYn4Htx"
      },
      "source": [
        "# Value Models\n"
      ]
    },
    {
      "cell_type": "markdown",
      "metadata": {
        "id": "XeTq4bPJvWE4"
      },
      "source": [
        "EPS Method"
      ]
    },
    {
      "cell_type": "code",
      "metadata": {
        "id": "TyW4yJ0AOXtl",
        "colab": {
          "base_uri": "https://localhost:8080/",
          "height": 37
        },
        "outputId": "3b762bbf-a94c-4c14-cacd-9ce5e8263ec5"
      },
      "source": [
        "trailing_eps = ticker.info['trailingEps']\n",
        "five_yr_intrinsic = (trailing_eps * (1+.12)**5) * pe_ratio\n",
        "Fair_Market_Value_EPS_Method = str(\"${:,.2f}\".format(five_yr_intrinsic/(1+.10)**5))\n",
        "Fair_Market_Value_EPS_Method"
      ],
      "execution_count": 153,
      "outputs": [
        {
          "output_type": "execute_result",
          "data": {
            "application/vnd.google.colaboratory.intrinsic+json": {
              "type": "string"
            },
            "text/plain": [
              "'$93.45'"
            ]
          },
          "metadata": {},
          "execution_count": 153
        }
      ]
    },
    {
      "cell_type": "markdown",
      "metadata": {
        "id": "_zWvg-HI9ig2"
      },
      "source": [
        "Discounted Free Cashflow Model"
      ]
    },
    {
      "cell_type": "code",
      "metadata": {
        "colab": {
          "base_uri": "https://localhost:8080/"
        },
        "id": "MQQ94EgSExVN",
        "outputId": "12dc857e-8b84-4636-b644-3d18a1780709"
      },
      "source": [
        "year_zero = free_cashflow_list[0]\n",
        "year_neg_one = free_cashflow_list[1]\n",
        "year_neg_two = free_cashflow_list[2]\n",
        "year_neg_three = free_cashflow_list[3]\n",
        "\n",
        "proceed = input('Do you want to append TTM? y/n:  ')\n",
        "if proceed == 'y':\n",
        "  append_ttm = float(input('Enter TTM Free Cashflow'))\n",
        "  free_cashflow_list.append(append_ttm)\n",
        "  fcf_growth = [\n",
        "                (year_neg_two - year_neg_three) / year_neg_three, \n",
        "                (year_neg_one - year_neg_two) / year_neg_two, \n",
        "                (year_zero - year_neg_one) / year_neg_one, \n",
        "                (float(free_cashflow_list[4]) - year_zero) / year_zero\n",
        "                ]\n",
        "  year = [1, 2, 3, 4]\n",
        "  fcf_list_new = [year_neg_three, year_neg_two, year_neg_one, year_zero, append_ttm]\n",
        "else: \n",
        "  fcf_growth = [\n",
        "                (year_neg_two - year_neg_three) / year_neg_three, \n",
        "                (year_neg_one - year_neg_two) / year_neg_two, \n",
        "                (year_zero - year_neg_one) / year_neg_one\n",
        "                ]\n",
        "  year = [1,2, 3]\n",
        "  fcf_list_new = [year_neg_three, year_neg_two, year_neg_one, year_zero]\n",
        "fcf_list_new\n"
      ],
      "execution_count": 154,
      "outputs": [
        {
          "output_type": "stream",
          "text": [
            "Do you want to append TTM? y/n:  n\n"
          ],
          "name": "stdout"
        },
        {
          "output_type": "execute_result",
          "data": {
            "text/plain": [
              "[3617000000.0, 4855000000.0, 7015000000.0, 1811000000.0]"
            ]
          },
          "metadata": {},
          "execution_count": 154
        }
      ]
    },
    {
      "cell_type": "code",
      "metadata": {
        "colab": {
          "base_uri": "https://localhost:8080/"
        },
        "id": "L0Qr5ZVxBZGV",
        "outputId": "7924848f-9f0b-4735-e000-805eadb7657a"
      },
      "source": [
        "from statistics import mean\n",
        "\n",
        "def average(lst):\n",
        "  return mean(lst)\n",
        "\n",
        "fcf_growth_average = average(fcf_growth)\n",
        "fcf_growth_average"
      ],
      "execution_count": 155,
      "outputs": [
        {
          "output_type": "execute_result",
          "data": {
            "text/plain": [
              "0.015111949238371761"
            ]
          },
          "metadata": {},
          "execution_count": 155
        }
      ]
    },
    {
      "cell_type": "code",
      "metadata": {
        "colab": {
          "base_uri": "https://localhost:8080/"
        },
        "id": "pOVor3QtQVfW",
        "outputId": "89872a9f-7171-4f94-d0f3-e97d30a2e82f"
      },
      "source": [
        "fcf_list_new[-1]"
      ],
      "execution_count": 156,
      "outputs": [
        {
          "output_type": "execute_result",
          "data": {
            "text/plain": [
              "1811000000.0"
            ]
          },
          "metadata": {},
          "execution_count": 156
        }
      ]
    },
    {
      "cell_type": "code",
      "metadata": {
        "colab": {
          "base_uri": "https://localhost:8080/"
        },
        "id": "_hBN-R_G9p6X",
        "outputId": "595d93d6-7e6b-49e6-8421-a97de7ff7942"
      },
      "source": [
        "#Assumptions:\n",
        "required_rate = 0.08\n",
        "perpetual_rate = 0.02\n",
        "cashflow_growth = float(fcf_growth_average)\n",
        "\n",
        "\n",
        "\n",
        "\n",
        "# Empty Lists\n",
        "future_cashflow = []\n",
        "discount_factor = []\n",
        "discounted_future_cashflow = []\n",
        "\n",
        "\n",
        "\n",
        "for i in year:\n",
        "  cashflowDCF = fcf_list_new[-1] * (1+ cashflow_growth)**i\n",
        "  future_cashflow.append(cashflowDCF)\n",
        "  discount_factor.append((1 + required_rate) ** i)\n",
        "\n",
        "for i in range (0, len(year)):\n",
        "  discounted_future_cashflow.append(future_cashflow[i]/discount_factor[i])\n",
        "\n",
        "#print(discounted_future_cashflow)\n",
        "\n",
        "terminal_value = future_cashflow[-1] * (1 + perpetual_rate)/(required_rate - perpetual_rate)\n",
        "\n",
        "\n",
        "discounted_terminal_value = terminal_value/(1 + required_rate)**4\n",
        "discounted_future_cashflow.append(discounted_terminal_value)\n",
        "\n",
        "today_value = sum(discounted_future_cashflow)\n",
        "\n",
        "fair_value = (today_value / shares_outstanding)\n",
        "\n",
        "fair_value_safe = fair_value*.9\n",
        "print(\"${}\".format(round(fair_value, 2)))\n",
        "print(\"${}\".format(round(fair_value_safe,2)))\n",
        "print(fifty_two_low)\n",
        "print(fifty_day_avg_price)"
      ],
      "execution_count": 157,
      "outputs": [
        {
          "output_type": "stream",
          "text": [
            "$18.89\n",
            "$17.0\n",
            "51.92\n",
            "86.066574\n"
          ],
          "name": "stdout"
        }
      ]
    },
    {
      "cell_type": "markdown",
      "metadata": {
        "id": "xdTmOBlB3c3S"
      },
      "source": [
        "# Logo"
      ]
    },
    {
      "cell_type": "code",
      "metadata": {
        "id": "rQdad32o3JqJ"
      },
      "source": [
        ""
      ],
      "execution_count": 157,
      "outputs": []
    },
    {
      "cell_type": "markdown",
      "metadata": {
        "id": "StsqjwtgxULf"
      },
      "source": [
        "# Create PDF Output"
      ]
    },
    {
      "cell_type": "code",
      "metadata": {
        "colab": {
          "base_uri": "https://localhost:8080/"
        },
        "id": "xBe_Ttys0zu8",
        "outputId": "b9151228-2a16-4a17-befd-d731bf73be50"
      },
      "source": [
        "pWidth = 210\n",
        "pHeight = 297\n",
        "\n",
        "class PDF(FPDF):\n",
        "  def header (self):\n",
        "    self.set_font('Arial', 'B', 15)\n",
        "    self.cell(0,10,'Stock Analysis for ' + ticker.info['longName'],1,1,'L')\n",
        "    self.cell(0,10, 'Date:  ' + today)\n",
        "    self.ln(20)\n",
        "  \n",
        "  def footer (self):\n",
        "    self.set_y(-15)\n",
        "    self.set_font('Arial', 'I', 8)\n",
        "    #self.image('ticker.logo.png')\n",
        "    self.cell(0,10, 'Page ' + str(self.page_no()) + '/{nb}', 0, 0, 'c')\n",
        "    \n",
        "\n",
        "\n",
        "pdf = PDF()\n",
        "pdf.alias_nb_pages()\n",
        "pdf.set_auto_page_break(auto=True, margin = 15)\n",
        "# Cover Page\n",
        "pdf.add_page()\n",
        "pdf.set_font('helvetica', '', 16)\n",
        "pdf.cell(0,10, 'Current Price:  ' + current_priceSTR + '     EPS Fair Marekt Value:  '+ Fair_Market_Value_EPS_Method, ln=1)\n",
        "#pdf.cell(0,10, 'EPS Fair Marekt Value:  '+ Fair_Market_Value_EPS_Method,ln=1)\n",
        "pdf.cell(0,10,'Gross Margins:  ' + gross_margin_current,ln=1)\n",
        "pdf.cell(0,10,'Past Gross Margins:  ' + gross_marginSTR ,ln=1)\n",
        "pdf.cell(0,10,'Dividend Rate:  ' + dividend_rate +'    Dividend Yield:  ' + dividend_yield,ln=1)\n",
        "#pdf.image('sgaTbl.png',5,75,100,title='SGA Ratio')\n",
        "pdf.image('profits and cash.png',0,85,pWidth-5,100)\n",
        "pdf.image('Recommendations.png',0,180,pWidth, 50)\n",
        "pdf.image('earnings and revenue.png',0,230, pWidth,50)\n",
        "#Page 2\n",
        "pdf.add_page()\n",
        "pdf.cell(0,20,'Pricing',ln=1)\n",
        "#pdf.cell(0,10,'Cogs, RMs, labor',ln=1)\n",
        "#pdf.cell(0,10, 'Operating Expenses',ln=1)\n",
        "#pdf.cell(0,10, 'SG & A, R&D, Interest, Depreciation',ln=1)\n",
        "#pdf.cell(0,10, 'Net Earnings:  Are they rising?  % of Net Earnings to Revenue.',ln=1)\n",
        "#pdf.cell(0,10, '>20%>10%',ln=1)\n",
        "#pdf.cell(0,10,'Per Share Earnings:  Net Income / Shares Outstanding.  Look for trend', ln=1)\n",
        "pdf.cell(0,10,\"Discounted Future Cashflow Value (no safety):  ${}\".format(round(fair_value, 2)),ln=1)\n",
        "pdf.cell(0,10,\"Discounted Future Cashflow Value 90% Safe:  ${}\".format(round(fair_value_safe,2)),ln=1)\n",
        "pdf.cell(0,10, 'EPS Fair Market Value: '+ Fair_Market_Value_EPS_Method, ln=1)\n",
        "pdf.cell(0,10, '52-Week Low:  $'+ fifty_two_low,ln=1)\n",
        "pdf.cell(0,10, '52-Week Average: $' + fifty_day_avg_price, ln=1)\n",
        "pdf.cell(0,10,'52-Week High:  $' + fifty_two_high,ln=1)\n",
        "\n",
        "\n",
        "\n",
        "#pdf.cell(0,10, ' Intrinsic Value - DCF Model:  ${}'.format(round(fair_value_safe,2)),ln=1)\n",
        "\n",
        "pdf.output('stock pdf ' +ticker.info['longName'] + '.pdf')\n"
      ],
      "execution_count": 158,
      "outputs": [
        {
          "output_type": "stream",
          "text": [
            "/usr/local/lib/python3.7/dist-packages/fpdf/fpdf.py:1204: UserWarning: Substituting font arial by core font helvetica\n",
            "  f\"Substituting font {family} by core font \"\n"
          ],
          "name": "stderr"
        }
      ]
    },
    {
      "cell_type": "code",
      "metadata": {
        "colab": {
          "base_uri": "https://localhost:8080/",
          "height": 592
        },
        "id": "E0hOjwVKkGYI",
        "outputId": "7c67b3cd-1bd3-4c67-cc49-2e9bfddd2788"
      },
      "source": [
        "ticker_hist = ticker.history()\n",
        "fig2 = ticker_hist.plot(kind = 'line',figsize = (15,10), subplots=True);\n",
        "plt.savefig('history plot.png')"
      ],
      "execution_count": 159,
      "outputs": [
        {
          "output_type": "display_data",
          "data": {
            "image/png": "[encoded data removed]",
            "text/plain": [
              "<Figure size 1080x720 with 7 Axes>"
            ]
          },
          "metadata": {}
        }
      ]
    },
    {
      "cell_type": "code",
      "metadata": {
        "id": "9xHT6Zfh8kTB"
      },
      "source": [
        ""
      ],
      "execution_count": 159,
      "outputs": []
    }
  ]
}