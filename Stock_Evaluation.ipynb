{
  "nbformat": 4,
  "nbformat_minor": 0,
  "metadata": {
    "colab": {
      "name": "Stock Evaluation.ipynb",
      "provenance": [],
      "collapsed_sections": [
        "gsoSOl6WqlQy"
      ],
      "toc_visible": true,
      "mount_file_id": "1cEqMLI-ZjY_xQMz-NE3WJauaTmjebwBf",
      "authorship_tag": "ABX9TyMbF2gecO3IODof3BYVAhmB",
      "include_colab_link": true
    },
    "kernelspec": {
      "name": "python3",
      "display_name": "Python 3"
    },
    "language_info": {
      "name": "python"
    }
  },
  "cells": [
    {
      "cell_type": "markdown",
      "metadata": {
        "id": "view-in-github",
        "colab_type": "text"
      },
      "source": [
        "<a href=\"https://colab.research.google.com/github/jjdub82/...../blob/master/Stock_Evaluation.ipynb\" target=\"_parent\"><img src=\"https://colab.research.google.com/assets/colab-badge.svg\" alt=\"Open In Colab\"/></a>"
      ]
    },
    {
      "cell_type": "markdown",
      "metadata": {
        "id": "gsoSOl6WqlQy"
      },
      "source": [
        "# Dependencies"
      ]
    },
    {
      "cell_type": "code",
      "metadata": {
        "colab": {
          "base_uri": "https://localhost:8080/"
        },
        "id": "Mk0_Evh6QR10",
        "outputId": "41603013-b36b-49df-b248-dd0723bbc52c"
      },
      "source": [
        "pip install pandas table plotting\n"
      ],
      "execution_count": 342,
      "outputs": [
        {
          "output_type": "stream",
          "text": [
            "Requirement already satisfied: pandas in /usr/local/lib/python3.7/dist-packages (1.1.5)\n",
            "Requirement already satisfied: table in /usr/local/lib/python3.7/dist-packages (0.0.4)\n",
            "Requirement already satisfied: plotting in /usr/local/lib/python3.7/dist-packages (0.0.7)\n",
            "Requirement already satisfied: python-dateutil>=2.7.3 in /usr/local/lib/python3.7/dist-packages (from pandas) (2.8.2)\n",
            "Requirement already satisfied: pytz>=2017.2 in /usr/local/lib/python3.7/dist-packages (from pandas) (2018.9)\n",
            "Requirement already satisfied: numpy>=1.15.4 in /usr/local/lib/python3.7/dist-packages (from pandas) (1.19.5)\n",
            "Requirement already satisfied: six>=1.5 in /usr/local/lib/python3.7/dist-packages (from python-dateutil>=2.7.3->pandas) (1.15.0)\n",
            "Requirement already satisfied: seaborn in /usr/local/lib/python3.7/dist-packages (from plotting) (0.11.1)\n",
            "Requirement already satisfied: matplotlib in /usr/local/lib/python3.7/dist-packages (from plotting) (3.2.2)\n",
            "Requirement already satisfied: cycler>=0.10 in /usr/local/lib/python3.7/dist-packages (from matplotlib->plotting) (0.10.0)\n",
            "Requirement already satisfied: kiwisolver>=1.0.1 in /usr/local/lib/python3.7/dist-packages (from matplotlib->plotting) (1.3.1)\n",
            "Requirement already satisfied: pyparsing!=2.0.4,!=2.1.2,!=2.1.6,>=2.0.1 in /usr/local/lib/python3.7/dist-packages (from matplotlib->plotting) (2.4.7)\n",
            "Requirement already satisfied: scipy>=1.0 in /usr/local/lib/python3.7/dist-packages (from seaborn->plotting) (1.4.1)\n"
          ],
          "name": "stdout"
        }
      ]
    },
    {
      "cell_type": "code",
      "metadata": {
        "id": "2n9GqAsBKIlw",
        "colab": {
          "base_uri": "https://localhost:8080/"
        },
        "outputId": "66ffd80a-cf7d-4df9-e580-81a449ac86c5"
      },
      "source": [
        "pip install yfinance"
      ],
      "execution_count": 343,
      "outputs": [
        {
          "output_type": "stream",
          "text": [
            "Requirement already satisfied: yfinance in /usr/local/lib/python3.7/dist-packages (0.1.63)\n",
            "Requirement already satisfied: multitasking>=0.0.7 in /usr/local/lib/python3.7/dist-packages (from yfinance) (0.0.9)\n",
            "Requirement already satisfied: lxml>=4.5.1 in /usr/local/lib/python3.7/dist-packages (from yfinance) (4.6.3)\n",
            "Requirement already satisfied: pandas>=0.24 in /usr/local/lib/python3.7/dist-packages (from yfinance) (1.1.5)\n",
            "Requirement already satisfied: requests>=2.20 in /usr/local/lib/python3.7/dist-packages (from yfinance) (2.23.0)\n",
            "Requirement already satisfied: numpy>=1.15 in /usr/local/lib/python3.7/dist-packages (from yfinance) (1.19.5)\n",
            "Requirement already satisfied: pytz>=2017.2 in /usr/local/lib/python3.7/dist-packages (from pandas>=0.24->yfinance) (2018.9)\n",
            "Requirement already satisfied: python-dateutil>=2.7.3 in /usr/local/lib/python3.7/dist-packages (from pandas>=0.24->yfinance) (2.8.2)\n",
            "Requirement already satisfied: six>=1.5 in /usr/local/lib/python3.7/dist-packages (from python-dateutil>=2.7.3->pandas>=0.24->yfinance) (1.15.0)\n",
            "Requirement already satisfied: chardet<4,>=3.0.2 in /usr/local/lib/python3.7/dist-packages (from requests>=2.20->yfinance) (3.0.4)\n",
            "Requirement already satisfied: idna<3,>=2.5 in /usr/local/lib/python3.7/dist-packages (from requests>=2.20->yfinance) (2.10)\n",
            "Requirement already satisfied: urllib3!=1.25.0,!=1.25.1,<1.26,>=1.21.1 in /usr/local/lib/python3.7/dist-packages (from requests>=2.20->yfinance) (1.24.3)\n",
            "Requirement already satisfied: certifi>=2017.4.17 in /usr/local/lib/python3.7/dist-packages (from requests>=2.20->yfinance) (2021.5.30)\n"
          ],
          "name": "stdout"
        }
      ]
    },
    {
      "cell_type": "code",
      "metadata": {
        "colab": {
          "base_uri": "https://localhost:8080/"
        },
        "id": "q3l-a-4BQMKJ",
        "outputId": "a17a8290-ca43-42fb-81f6-e4424519e63e"
      },
      "source": [
        "pip install dataframe-image"
      ],
      "execution_count": 344,
      "outputs": [
        {
          "output_type": "stream",
          "text": [
            "Requirement already satisfied: dataframe-image in /usr/local/lib/python3.7/dist-packages (0.1.1)\n",
            "Requirement already satisfied: nbconvert>=5 in /usr/local/lib/python3.7/dist-packages (from dataframe-image) (5.6.1)\n",
            "Requirement already satisfied: requests in /usr/local/lib/python3.7/dist-packages (from dataframe-image) (2.23.0)\n",
            "Requirement already satisfied: aiohttp in /usr/local/lib/python3.7/dist-packages (from dataframe-image) (3.7.4.post0)\n",
            "Requirement already satisfied: matplotlib>=3.1 in /usr/local/lib/python3.7/dist-packages (from dataframe-image) (3.2.2)\n",
            "Requirement already satisfied: beautifulsoup4 in /usr/local/lib/python3.7/dist-packages (from dataframe-image) (4.6.3)\n",
            "Requirement already satisfied: pandas>=0.24 in /usr/local/lib/python3.7/dist-packages (from dataframe-image) (1.1.5)\n",
            "Requirement already satisfied: pyparsing!=2.0.4,!=2.1.2,!=2.1.6,>=2.0.1 in /usr/local/lib/python3.7/dist-packages (from matplotlib>=3.1->dataframe-image) (2.4.7)\n",
            "Requirement already satisfied: numpy>=1.11 in /usr/local/lib/python3.7/dist-packages (from matplotlib>=3.1->dataframe-image) (1.19.5)\n",
            "Requirement already satisfied: python-dateutil>=2.1 in /usr/local/lib/python3.7/dist-packages (from matplotlib>=3.1->dataframe-image) (2.8.2)\n",
            "Requirement already satisfied: cycler>=0.10 in /usr/local/lib/python3.7/dist-packages (from matplotlib>=3.1->dataframe-image) (0.10.0)\n",
            "Requirement already satisfied: kiwisolver>=1.0.1 in /usr/local/lib/python3.7/dist-packages (from matplotlib>=3.1->dataframe-image) (1.3.1)\n",
            "Requirement already satisfied: six in /usr/local/lib/python3.7/dist-packages (from cycler>=0.10->matplotlib>=3.1->dataframe-image) (1.15.0)\n",
            "Requirement already satisfied: pygments in /usr/local/lib/python3.7/dist-packages (from nbconvert>=5->dataframe-image) (2.6.1)\n",
            "Requirement already satisfied: jinja2>=2.4 in /usr/local/lib/python3.7/dist-packages (from nbconvert>=5->dataframe-image) (2.11.3)\n",
            "Requirement already satisfied: mistune<2,>=0.8.1 in /usr/local/lib/python3.7/dist-packages (from nbconvert>=5->dataframe-image) (0.8.4)\n",
            "Requirement already satisfied: pandocfilters>=1.4.1 in /usr/local/lib/python3.7/dist-packages (from nbconvert>=5->dataframe-image) (1.4.3)\n",
            "Requirement already satisfied: defusedxml in /usr/local/lib/python3.7/dist-packages (from nbconvert>=5->dataframe-image) (0.7.1)\n",
            "Requirement already satisfied: nbformat>=4.4 in /usr/local/lib/python3.7/dist-packages (from nbconvert>=5->dataframe-image) (5.1.3)\n",
            "Requirement already satisfied: entrypoints>=0.2.2 in /usr/local/lib/python3.7/dist-packages (from nbconvert>=5->dataframe-image) (0.3)\n",
            "Requirement already satisfied: testpath in /usr/local/lib/python3.7/dist-packages (from nbconvert>=5->dataframe-image) (0.5.0)\n",
            "Requirement already satisfied: bleach in /usr/local/lib/python3.7/dist-packages (from nbconvert>=5->dataframe-image) (4.0.0)\n",
            "Requirement already satisfied: traitlets>=4.2 in /usr/local/lib/python3.7/dist-packages (from nbconvert>=5->dataframe-image) (5.0.5)\n",
            "Requirement already satisfied: jupyter-core in /usr/local/lib/python3.7/dist-packages (from nbconvert>=5->dataframe-image) (4.7.1)\n",
            "Requirement already satisfied: MarkupSafe>=0.23 in /usr/local/lib/python3.7/dist-packages (from jinja2>=2.4->nbconvert>=5->dataframe-image) (2.0.1)\n",
            "Requirement already satisfied: jsonschema!=2.5.0,>=2.4 in /usr/local/lib/python3.7/dist-packages (from nbformat>=4.4->nbconvert>=5->dataframe-image) (2.6.0)\n",
            "Requirement already satisfied: ipython-genutils in /usr/local/lib/python3.7/dist-packages (from nbformat>=4.4->nbconvert>=5->dataframe-image) (0.2.0)\n",
            "Requirement already satisfied: pytz>=2017.2 in /usr/local/lib/python3.7/dist-packages (from pandas>=0.24->dataframe-image) (2018.9)\n",
            "Requirement already satisfied: chardet<5.0,>=2.0 in /usr/local/lib/python3.7/dist-packages (from aiohttp->dataframe-image) (3.0.4)\n",
            "Requirement already satisfied: attrs>=17.3.0 in /usr/local/lib/python3.7/dist-packages (from aiohttp->dataframe-image) (21.2.0)\n",
            "Requirement already satisfied: async-timeout<4.0,>=3.0 in /usr/local/lib/python3.7/dist-packages (from aiohttp->dataframe-image) (3.0.1)\n",
            "Requirement already satisfied: multidict<7.0,>=4.5 in /usr/local/lib/python3.7/dist-packages (from aiohttp->dataframe-image) (5.1.0)\n",
            "Requirement already satisfied: typing-extensions>=3.6.5 in /usr/local/lib/python3.7/dist-packages (from aiohttp->dataframe-image) (3.7.4.3)\n",
            "Requirement already satisfied: yarl<2.0,>=1.0 in /usr/local/lib/python3.7/dist-packages (from aiohttp->dataframe-image) (1.6.3)\n",
            "Requirement already satisfied: idna>=2.0 in /usr/local/lib/python3.7/dist-packages (from yarl<2.0,>=1.0->aiohttp->dataframe-image) (2.10)\n",
            "Requirement already satisfied: packaging in /usr/local/lib/python3.7/dist-packages (from bleach->nbconvert>=5->dataframe-image) (21.0)\n",
            "Requirement already satisfied: webencodings in /usr/local/lib/python3.7/dist-packages (from bleach->nbconvert>=5->dataframe-image) (0.5.1)\n",
            "Requirement already satisfied: certifi>=2017.4.17 in /usr/local/lib/python3.7/dist-packages (from requests->dataframe-image) (2021.5.30)\n",
            "Requirement already satisfied: urllib3!=1.25.0,!=1.25.1,<1.26,>=1.21.1 in /usr/local/lib/python3.7/dist-packages (from requests->dataframe-image) (1.24.3)\n"
          ],
          "name": "stdout"
        }
      ]
    },
    {
      "cell_type": "code",
      "metadata": {
        "colab": {
          "base_uri": "https://localhost:8080/"
        },
        "id": "MJXNXVuFB7qZ",
        "outputId": "4244f454-3476-4d3b-8866-28e4b1e18260"
      },
      "source": [
        "pip install fpdf2"
      ],
      "execution_count": 345,
      "outputs": [
        {
          "output_type": "stream",
          "text": [
            "Requirement already satisfied: fpdf2 in /usr/local/lib/python3.7/dist-packages (2.4.2)\n",
            "Requirement already satisfied: Pillow in /usr/local/lib/python3.7/dist-packages (from fpdf2) (7.1.2)\n"
          ],
          "name": "stdout"
        }
      ]
    },
    {
      "cell_type": "code",
      "metadata": {
        "id": "j-9Ali7KKqX4"
      },
      "source": [
        "import pandas as pd\n",
        "import yfinance as yf\n",
        "import numpy as np\n",
        "import matplotlib.pyplot as plt\n",
        "import seaborn as sns\n",
        "import datetime as dt\n",
        "import requests\n",
        "from PIL import Image\n",
        "%matplotlib inline"
      ],
      "execution_count": 346,
      "outputs": []
    },
    {
      "cell_type": "code",
      "metadata": {
        "id": "_uqz0RQiu3Be"
      },
      "source": [
        "from datetime import date\n",
        "from datetime import datetime\n",
        "from datetime import timedelta\n",
        "today = str(date.today())\n",
        "current_year = date.today().year"
      ],
      "execution_count": 347,
      "outputs": []
    },
    {
      "cell_type": "code",
      "metadata": {
        "id": "Q63O7xA1jjBJ"
      },
      "source": [
        "import pandas as pd\n",
        "import numpy as np\n",
        "import matplotlib.pyplot as plt\n",
        "from matplotlib.backends.backend_pdf import PdfPages\n",
        "import matplotlib.gridspec as gridspec\n",
        "from matplotlib.ticker import MaxNLocator\n",
        "from numpy import array\n",
        "from matplotlib import ticker"
      ],
      "execution_count": 348,
      "outputs": []
    },
    {
      "cell_type": "code",
      "metadata": {
        "id": "-GzSBePvEI4M"
      },
      "source": [
        "from fpdf import FPDF"
      ],
      "execution_count": 349,
      "outputs": []
    },
    {
      "cell_type": "markdown",
      "metadata": {
        "id": "vaZ-i3t-qbXt"
      },
      "source": [
        "# Company Selection"
      ]
    },
    {
      "cell_type": "code",
      "metadata": {
        "colab": {
          "base_uri": "https://localhost:8080/"
        },
        "id": "-8o6o0tcnwR8",
        "outputId": "584dcccf-f6e8-48cf-96d5-869fc79615a1"
      },
      "source": [
        "ticker = yf.Ticker(input(\"Enter Ticker\\n\"))"
      ],
      "execution_count": 350,
      "outputs": [
        {
          "output_type": "stream",
          "text": [
            "Enter Ticker\n",
            "JNJ\n"
          ],
          "name": "stdout"
        }
      ]
    },
    {
      "cell_type": "code",
      "metadata": {
        "colab": {
          "base_uri": "https://localhost:8080/"
        },
        "id": "B1J569hlaOv2",
        "outputId": "ab2c4260-9d00-403f-ff45-d17b21891012"
      },
      "source": [
        "ticker_symbol = str(ticker.info['symbol'])\n",
        "urlObject = 'https://finance.yahoo.com/quote/'+ticker_symbol+'/cash-flow?p='+ticker_symbol\n",
        "print(urlObject)"
      ],
      "execution_count": 351,
      "outputs": [
        {
          "output_type": "stream",
          "text": [
            "https://finance.yahoo.com/quote/JNJ/cash-flow?p=JNJ\n"
          ],
          "name": "stdout"
        }
      ]
    },
    {
      "cell_type": "code",
      "metadata": {
        "colab": {
          "base_uri": "https://localhost:8080/"
        },
        "id": "aBZFEP4GYtJk",
        "outputId": "9e415e51-8dad-4876-9b1c-43fd2b43e96e"
      },
      "source": [
        "append_ttm = float(input('Enter TTM Free Cashflow.  Look it up at ' + urlObject+' \\n'))"
      ],
      "execution_count": 352,
      "outputs": [
        {
          "output_type": "stream",
          "text": [
            "Enter TTM Free Cashflow.  Look it up at https://finance.yahoo.com/quote/JNJ/cash-flow?p=JNJ \n",
            "22564000000\n"
          ],
          "name": "stdout"
        }
      ]
    },
    {
      "cell_type": "code",
      "metadata": {
        "colab": {
          "base_uri": "https://localhost:8080/"
        },
        "id": "EHQVjO6JjTyP",
        "outputId": "0a8ca355-4342-45e1-cd5f-7d9f3433ead9"
      },
      "source": [
        "recommendations_df = ticker.recommendations\n",
        "recommendations_df.reset_index(inplace=True)\n",
        "recommendations_df.columns\n"
      ],
      "execution_count": 353,
      "outputs": [
        {
          "output_type": "execute_result",
          "data": {
            "text/plain": [
              "Index(['Date', 'Firm', 'To Grade', 'From Grade', 'Action'], dtype='object')"
            ]
          },
          "metadata": {},
          "execution_count": 353
        }
      ]
    },
    {
      "cell_type": "code",
      "metadata": {
        "id": "OrA3mxP2gfE8"
      },
      "source": [
        "ticker.info\n",
        "book_value = str(ticker.info['bookValue'])\n",
        "fifty_day_avg_price = str(ticker.info['fiftyDayAverage'])\n",
        "fifty_two_high = str(ticker.info['fiftyTwoWeekHigh'])\n",
        "fifty_two_low = str(ticker.info['fiftyTwoWeekLow'])\n",
        "forward_PE = str(ticker.info['forwardPE'])\n",
        "forward_EPS = str(ticker.info['forwardEps'])\n",
        "peg_ratio = str(ticker.info['pegRatio'])\n",
        "price_to_book = str(ticker.info['priceToBook'])\n",
        "target_low_price = str(ticker.info['targetLowPrice'])\n",
        "target_median_price = str(ticker.info['targetMedianPrice'])\n",
        "market_cap_str = str(ticker.info['marketCap'])\n",
        "market_cap_num = ticker.info['marketCap']"
      ],
      "execution_count": 354,
      "outputs": []
    },
    {
      "cell_type": "code",
      "metadata": {
        "id": "nOOozrJAkeqM"
      },
      "source": [
        "free_cash_ttm = ticker.info['freeCashflow']"
      ],
      "execution_count": 355,
      "outputs": []
    },
    {
      "cell_type": "code",
      "metadata": {
        "colab": {
          "base_uri": "https://localhost:8080/"
        },
        "id": "fsaWHnY1JbvS",
        "outputId": "197ead5c-e443-4692-df1c-f209863bb7c8"
      },
      "source": [
        "last_year = datetime.today() - timedelta(days=365)\n",
        "print(last_year)"
      ],
      "execution_count": 356,
      "outputs": [
        {
          "output_type": "stream",
          "text": [
            "2020-08-28 11:22:06.584282\n"
          ],
          "name": "stdout"
        }
      ]
    },
    {
      "cell_type": "code",
      "metadata": {
        "id": "-phXyTbBo3U7"
      },
      "source": [
        "pe_ratio = ticker.info['trailingPE']"
      ],
      "execution_count": 357,
      "outputs": []
    },
    {
      "cell_type": "code",
      "metadata": {
        "colab": {
          "base_uri": "https://localhost:8080/",
          "height": 49
        },
        "id": "Dsgyt0pDsr_P",
        "outputId": "77911a00-3d35-43c3-d76b-027550b024bc"
      },
      "source": [
        "recommendations_df['Year'] = recommendations_df['Date'].dt.year\n",
        "current_recommendations_1yr = recommendations_df.loc[recommendations_df['Date']>=last_year]\n",
        "current_recommendations_1mo = recommendations_df.loc[recommendations_df['Date']>=datetime.today() - timedelta(days=31)]\n",
        "current_recommendations_3mo = recommendations_df.loc[recommendations_df['Date']>=datetime.today() - timedelta(days=90)]\n",
        "current_recommendations_6mo = recommendations_df.loc[recommendations_df['Date']>=datetime.today() - timedelta(days=180)]\n",
        "current_recommendations_6mo\n"
      ],
      "execution_count": 358,
      "outputs": [
        {
          "output_type": "execute_result",
          "data": {
            "text/html": [
              "<div>\n",
              "<style scoped>\n",
              "    .dataframe tbody tr th:only-of-type {\n",
              "        vertical-align: middle;\n",
              "    }\n",
              "\n",
              "    .dataframe tbody tr th {\n",
              "        vertical-align: top;\n",
              "    }\n",
              "\n",
              "    .dataframe thead th {\n",
              "        text-align: right;\n",
              "    }\n",
              "</style>\n",
              "<table border=\"1\" class=\"dataframe\">\n",
              "  <thead>\n",
              "    <tr style=\"text-align: right;\">\n",
              "      <th></th>\n",
              "      <th>Date</th>\n",
              "      <th>Firm</th>\n",
              "      <th>To Grade</th>\n",
              "      <th>From Grade</th>\n",
              "      <th>Action</th>\n",
              "      <th>Year</th>\n",
              "    </tr>\n",
              "  </thead>\n",
              "  <tbody>\n",
              "  </tbody>\n",
              "</table>\n",
              "</div>"
            ],
            "text/plain": [
              "Empty DataFrame\n",
              "Columns: [Date, Firm, To Grade, From Grade, Action, Year]\n",
              "Index: []"
            ]
          },
          "metadata": {},
          "execution_count": 358
        }
      ]
    },
    {
      "cell_type": "code",
      "metadata": {
        "colab": {
          "base_uri": "https://localhost:8080/"
        },
        "id": "Py0PyB15TknU",
        "outputId": "9bf11d97-f762-48b7-9964-e10f655fccfa"
      },
      "source": [
        "ticker.info['grossMargins']"
      ],
      "execution_count": 359,
      "outputs": [
        {
          "output_type": "execute_result",
          "data": {
            "text/plain": [
              "0.67120004"
            ]
          },
          "metadata": {},
          "execution_count": 359
        }
      ]
    },
    {
      "cell_type": "code",
      "metadata": {
        "id": "aAqdO6mncXj-"
      },
      "source": [
        "gross_margin = ticker.info['grossMargins']\n",
        "market_cap = ticker.info['marketCap']\n",
        "shares_outstanding = ticker.info['sharesOutstanding']"
      ],
      "execution_count": 360,
      "outputs": []
    },
    {
      "cell_type": "code",
      "metadata": {
        "id": "M0J7WPLpYtna"
      },
      "source": [
        "finance = ticker.financials"
      ],
      "execution_count": 361,
      "outputs": []
    },
    {
      "cell_type": "markdown",
      "metadata": {
        "id": "IPWPDBBkeq5R"
      },
      "source": [
        "FINANCE STATEMENT DATAFRAMES"
      ]
    },
    {
      "cell_type": "code",
      "metadata": {
        "id": "0lmAFONGZLAT"
      },
      "source": [
        "finance = finance.set_axis(['2020', '2019', '2018', '2017'], axis = 'columns')"
      ],
      "execution_count": 362,
      "outputs": []
    },
    {
      "cell_type": "code",
      "metadata": {
        "colab": {
          "base_uri": "https://localhost:8080/",
          "height": 762
        },
        "id": "8-sKRUO1Y98T",
        "outputId": "64dad7ec-405e-4551-e60c-9b9b60e6676b"
      },
      "source": [
        "finance.index.name = 'Category'\n",
        "finance"
      ],
      "execution_count": 363,
      "outputs": [
        {
          "output_type": "execute_result",
          "data": {
            "text/html": [
              "<div>\n",
              "<style scoped>\n",
              "    .dataframe tbody tr th:only-of-type {\n",
              "        vertical-align: middle;\n",
              "    }\n",
              "\n",
              "    .dataframe tbody tr th {\n",
              "        vertical-align: top;\n",
              "    }\n",
              "\n",
              "    .dataframe thead th {\n",
              "        text-align: right;\n",
              "    }\n",
              "</style>\n",
              "<table border=\"1\" class=\"dataframe\">\n",
              "  <thead>\n",
              "    <tr style=\"text-align: right;\">\n",
              "      <th></th>\n",
              "      <th>2020</th>\n",
              "      <th>2019</th>\n",
              "      <th>2018</th>\n",
              "      <th>2017</th>\n",
              "    </tr>\n",
              "    <tr>\n",
              "      <th>Category</th>\n",
              "      <th></th>\n",
              "      <th></th>\n",
              "      <th></th>\n",
              "      <th></th>\n",
              "    </tr>\n",
              "  </thead>\n",
              "  <tbody>\n",
              "    <tr>\n",
              "      <th>Research Development</th>\n",
              "      <td>1.2159e+10</td>\n",
              "      <td>1.1355e+10</td>\n",
              "      <td>1.0775e+10</td>\n",
              "      <td>1.0594e+10</td>\n",
              "    </tr>\n",
              "    <tr>\n",
              "      <th>Effect Of Accounting Charges</th>\n",
              "      <td>None</td>\n",
              "      <td>None</td>\n",
              "      <td>None</td>\n",
              "      <td>None</td>\n",
              "    </tr>\n",
              "    <tr>\n",
              "      <th>Income Before Tax</th>\n",
              "      <td>1.6497e+10</td>\n",
              "      <td>1.7328e+10</td>\n",
              "      <td>1.7999e+10</td>\n",
              "      <td>1.7673e+10</td>\n",
              "    </tr>\n",
              "    <tr>\n",
              "      <th>Minority Interest</th>\n",
              "      <td>None</td>\n",
              "      <td>None</td>\n",
              "      <td>None</td>\n",
              "      <td>None</td>\n",
              "    </tr>\n",
              "    <tr>\n",
              "      <th>Net Income</th>\n",
              "      <td>1.4714e+10</td>\n",
              "      <td>1.5119e+10</td>\n",
              "      <td>1.5297e+10</td>\n",
              "      <td>1.3e+09</td>\n",
              "    </tr>\n",
              "    <tr>\n",
              "      <th>Selling General Administrative</th>\n",
              "      <td>2.2084e+10</td>\n",
              "      <td>2.2178e+10</td>\n",
              "      <td>2.254e+10</td>\n",
              "      <td>2.152e+10</td>\n",
              "    </tr>\n",
              "    <tr>\n",
              "      <th>Gross Profit</th>\n",
              "      <td>5.4257e+10</td>\n",
              "      <td>5.4503e+10</td>\n",
              "      <td>5.449e+10</td>\n",
              "      <td>5.1011e+10</td>\n",
              "    </tr>\n",
              "    <tr>\n",
              "      <th>Ebit</th>\n",
              "      <td>2.0014e+10</td>\n",
              "      <td>2.097e+10</td>\n",
              "      <td>2.1175e+10</td>\n",
              "      <td>1.8897e+10</td>\n",
              "    </tr>\n",
              "    <tr>\n",
              "      <th>Operating Income</th>\n",
              "      <td>2.0014e+10</td>\n",
              "      <td>2.097e+10</td>\n",
              "      <td>2.1175e+10</td>\n",
              "      <td>1.8897e+10</td>\n",
              "    </tr>\n",
              "    <tr>\n",
              "      <th>Other Operating Expenses</th>\n",
              "      <td>None</td>\n",
              "      <td>None</td>\n",
              "      <td>None</td>\n",
              "      <td>None</td>\n",
              "    </tr>\n",
              "    <tr>\n",
              "      <th>Interest Expense</th>\n",
              "      <td>-2.01e+08</td>\n",
              "      <td>-3.18e+08</td>\n",
              "      <td>-1.005e+09</td>\n",
              "      <td>-9.34e+08</td>\n",
              "    </tr>\n",
              "    <tr>\n",
              "      <th>Extraordinary Items</th>\n",
              "      <td>None</td>\n",
              "      <td>None</td>\n",
              "      <td>None</td>\n",
              "      <td>None</td>\n",
              "    </tr>\n",
              "    <tr>\n",
              "      <th>Non Recurring</th>\n",
              "      <td>None</td>\n",
              "      <td>None</td>\n",
              "      <td>None</td>\n",
              "      <td>None</td>\n",
              "    </tr>\n",
              "    <tr>\n",
              "      <th>Other Items</th>\n",
              "      <td>None</td>\n",
              "      <td>None</td>\n",
              "      <td>None</td>\n",
              "      <td>None</td>\n",
              "    </tr>\n",
              "    <tr>\n",
              "      <th>Income Tax Expense</th>\n",
              "      <td>1.783e+09</td>\n",
              "      <td>2.209e+09</td>\n",
              "      <td>2.702e+09</td>\n",
              "      <td>1.6373e+10</td>\n",
              "    </tr>\n",
              "    <tr>\n",
              "      <th>Total Revenue</th>\n",
              "      <td>8.2584e+10</td>\n",
              "      <td>8.2059e+10</td>\n",
              "      <td>8.1581e+10</td>\n",
              "      <td>7.645e+10</td>\n",
              "    </tr>\n",
              "    <tr>\n",
              "      <th>Total Operating Expenses</th>\n",
              "      <td>6.257e+10</td>\n",
              "      <td>6.1089e+10</td>\n",
              "      <td>6.0406e+10</td>\n",
              "      <td>5.7553e+10</td>\n",
              "    </tr>\n",
              "    <tr>\n",
              "      <th>Cost Of Revenue</th>\n",
              "      <td>2.8327e+10</td>\n",
              "      <td>2.7556e+10</td>\n",
              "      <td>2.7091e+10</td>\n",
              "      <td>2.5439e+10</td>\n",
              "    </tr>\n",
              "    <tr>\n",
              "      <th>Total Other Income Expense Net</th>\n",
              "      <td>-3.517e+09</td>\n",
              "      <td>-3.642e+09</td>\n",
              "      <td>-3.176e+09</td>\n",
              "      <td>-1.224e+09</td>\n",
              "    </tr>\n",
              "    <tr>\n",
              "      <th>Discontinued Operations</th>\n",
              "      <td>None</td>\n",
              "      <td>None</td>\n",
              "      <td>None</td>\n",
              "      <td>None</td>\n",
              "    </tr>\n",
              "    <tr>\n",
              "      <th>Net Income From Continuing Ops</th>\n",
              "      <td>1.4714e+10</td>\n",
              "      <td>1.5119e+10</td>\n",
              "      <td>1.5297e+10</td>\n",
              "      <td>1.3e+09</td>\n",
              "    </tr>\n",
              "    <tr>\n",
              "      <th>Net Income Applicable To Common Shares</th>\n",
              "      <td>1.4714e+10</td>\n",
              "      <td>1.5119e+10</td>\n",
              "      <td>1.5297e+10</td>\n",
              "      <td>1.3e+09</td>\n",
              "    </tr>\n",
              "  </tbody>\n",
              "</table>\n",
              "</div>"
            ],
            "text/plain": [
              "                                              2020  ...        2017\n",
              "Category                                            ...            \n",
              "Research Development                    1.2159e+10  ...  1.0594e+10\n",
              "Effect Of Accounting Charges                  None  ...        None\n",
              "Income Before Tax                       1.6497e+10  ...  1.7673e+10\n",
              "Minority Interest                             None  ...        None\n",
              "Net Income                              1.4714e+10  ...     1.3e+09\n",
              "Selling General Administrative          2.2084e+10  ...   2.152e+10\n",
              "Gross Profit                            5.4257e+10  ...  5.1011e+10\n",
              "Ebit                                    2.0014e+10  ...  1.8897e+10\n",
              "Operating Income                        2.0014e+10  ...  1.8897e+10\n",
              "Other Operating Expenses                      None  ...        None\n",
              "Interest Expense                         -2.01e+08  ...   -9.34e+08\n",
              "Extraordinary Items                           None  ...        None\n",
              "Non Recurring                                 None  ...        None\n",
              "Other Items                                   None  ...        None\n",
              "Income Tax Expense                       1.783e+09  ...  1.6373e+10\n",
              "Total Revenue                           8.2584e+10  ...   7.645e+10\n",
              "Total Operating Expenses                 6.257e+10  ...  5.7553e+10\n",
              "Cost Of Revenue                         2.8327e+10  ...  2.5439e+10\n",
              "Total Other Income Expense Net          -3.517e+09  ...  -1.224e+09\n",
              "Discontinued Operations                       None  ...        None\n",
              "Net Income From Continuing Ops          1.4714e+10  ...     1.3e+09\n",
              "Net Income Applicable To Common Shares  1.4714e+10  ...     1.3e+09\n",
              "\n",
              "[22 rows x 4 columns]"
            ]
          },
          "metadata": {},
          "execution_count": 363
        }
      ]
    },
    {
      "cell_type": "code",
      "metadata": {
        "id": "mwOOspNgs6cd"
      },
      "source": [
        "sga_list = list(finance.loc['Selling General Administrative'])\n",
        "ebit_list = list(finance.loc['Ebit'])\n",
        "income_tax_list = list(finance.loc['Income Tax Expense'])\n",
        "interest_list = list(finance.loc['Interest Expense'])"
      ],
      "execution_count": 364,
      "outputs": []
    },
    {
      "cell_type": "code",
      "metadata": {
        "id": "o3P8Uin8a3PE"
      },
      "source": [
        "bal_sheet = ticker.balancesheet\n",
        "bal_sheet = bal_sheet.set_axis(['2020', '2019', '2018', '2017'], axis = 'columns')\n",
        "bal_sheet.index.name = 'Category'\n",
        "\n",
        "cashflow = ticker.cashflow\n",
        "cashflow = cashflow.set_axis(['2020', '2019', '2018', '2017'], axis = 'columns')\n",
        "cashflow.index.name = 'Category'\n"
      ],
      "execution_count": 365,
      "outputs": []
    },
    {
      "cell_type": "code",
      "metadata": {
        "id": "egewCGEEgCdx"
      },
      "source": [
        "operating_margins = ticker.info['operatingMargins']"
      ],
      "execution_count": 366,
      "outputs": []
    },
    {
      "cell_type": "code",
      "metadata": {
        "id": "ucJ98XuHiFHv"
      },
      "source": [
        "operating_cashflow = ticker.info['operatingCashflow']"
      ],
      "execution_count": 367,
      "outputs": []
    },
    {
      "cell_type": "code",
      "metadata": {
        "id": "XHr8k53RiYBl"
      },
      "source": [
        "df_fin = finance.loc[['Operating Income','Net Income','Research Development','Cost Of Revenue', 'Total Revenue', 'Total Operating Expenses', 'Gross Profit']]"
      ],
      "execution_count": 368,
      "outputs": []
    },
    {
      "cell_type": "code",
      "metadata": {
        "colab": {
          "base_uri": "https://localhost:8080/",
          "height": 297
        },
        "id": "qlNlszSzsrDB",
        "outputId": "ef04674a-20a4-4af8-f76b-543d141e0362"
      },
      "source": [
        "df_fin"
      ],
      "execution_count": 369,
      "outputs": [
        {
          "output_type": "execute_result",
          "data": {
            "text/html": [
              "<div>\n",
              "<style scoped>\n",
              "    .dataframe tbody tr th:only-of-type {\n",
              "        vertical-align: middle;\n",
              "    }\n",
              "\n",
              "    .dataframe tbody tr th {\n",
              "        vertical-align: top;\n",
              "    }\n",
              "\n",
              "    .dataframe thead th {\n",
              "        text-align: right;\n",
              "    }\n",
              "</style>\n",
              "<table border=\"1\" class=\"dataframe\">\n",
              "  <thead>\n",
              "    <tr style=\"text-align: right;\">\n",
              "      <th></th>\n",
              "      <th>2020</th>\n",
              "      <th>2019</th>\n",
              "      <th>2018</th>\n",
              "      <th>2017</th>\n",
              "    </tr>\n",
              "    <tr>\n",
              "      <th>Category</th>\n",
              "      <th></th>\n",
              "      <th></th>\n",
              "      <th></th>\n",
              "      <th></th>\n",
              "    </tr>\n",
              "  </thead>\n",
              "  <tbody>\n",
              "    <tr>\n",
              "      <th>Operating Income</th>\n",
              "      <td>2.0014e+10</td>\n",
              "      <td>2.097e+10</td>\n",
              "      <td>2.1175e+10</td>\n",
              "      <td>1.8897e+10</td>\n",
              "    </tr>\n",
              "    <tr>\n",
              "      <th>Net Income</th>\n",
              "      <td>1.4714e+10</td>\n",
              "      <td>1.5119e+10</td>\n",
              "      <td>1.5297e+10</td>\n",
              "      <td>1.3e+09</td>\n",
              "    </tr>\n",
              "    <tr>\n",
              "      <th>Research Development</th>\n",
              "      <td>1.2159e+10</td>\n",
              "      <td>1.1355e+10</td>\n",
              "      <td>1.0775e+10</td>\n",
              "      <td>1.0594e+10</td>\n",
              "    </tr>\n",
              "    <tr>\n",
              "      <th>Cost Of Revenue</th>\n",
              "      <td>2.8327e+10</td>\n",
              "      <td>2.7556e+10</td>\n",
              "      <td>2.7091e+10</td>\n",
              "      <td>2.5439e+10</td>\n",
              "    </tr>\n",
              "    <tr>\n",
              "      <th>Total Revenue</th>\n",
              "      <td>8.2584e+10</td>\n",
              "      <td>8.2059e+10</td>\n",
              "      <td>8.1581e+10</td>\n",
              "      <td>7.645e+10</td>\n",
              "    </tr>\n",
              "    <tr>\n",
              "      <th>Total Operating Expenses</th>\n",
              "      <td>6.257e+10</td>\n",
              "      <td>6.1089e+10</td>\n",
              "      <td>6.0406e+10</td>\n",
              "      <td>5.7553e+10</td>\n",
              "    </tr>\n",
              "    <tr>\n",
              "      <th>Gross Profit</th>\n",
              "      <td>5.4257e+10</td>\n",
              "      <td>5.4503e+10</td>\n",
              "      <td>5.449e+10</td>\n",
              "      <td>5.1011e+10</td>\n",
              "    </tr>\n",
              "  </tbody>\n",
              "</table>\n",
              "</div>"
            ],
            "text/plain": [
              "                                2020        2019        2018        2017\n",
              "Category                                                                \n",
              "Operating Income          2.0014e+10   2.097e+10  2.1175e+10  1.8897e+10\n",
              "Net Income                1.4714e+10  1.5119e+10  1.5297e+10     1.3e+09\n",
              "Research Development      1.2159e+10  1.1355e+10  1.0775e+10  1.0594e+10\n",
              "Cost Of Revenue           2.8327e+10  2.7556e+10  2.7091e+10  2.5439e+10\n",
              "Total Revenue             8.2584e+10  8.2059e+10  8.1581e+10   7.645e+10\n",
              "Total Operating Expenses   6.257e+10  6.1089e+10  6.0406e+10  5.7553e+10\n",
              "Gross Profit              5.4257e+10  5.4503e+10   5.449e+10  5.1011e+10"
            ]
          },
          "metadata": {},
          "execution_count": 369
        }
      ]
    },
    {
      "cell_type": "code",
      "metadata": {
        "id": "-U9kyzfM54t2"
      },
      "source": [
        ""
      ],
      "execution_count": 369,
      "outputs": []
    },
    {
      "cell_type": "code",
      "metadata": {
        "id": "p-EI6f-TpSKx"
      },
      "source": [
        "operating_income_list = list(df_fin.loc['Operating Income'])\n",
        "net_income_list = list(df_fin.loc['Net Income'])\n",
        "research_list = list(df_fin.loc['Research Development'])\n",
        "cost_of_revenue = list(df_fin.loc['Cost Of Revenue'])\n",
        "total_revenue_list = list(df_fin.loc['Total Revenue'])\n",
        "total_Operating_expense_list = list(df_fin.loc['Total Operating Expenses'])\n",
        "gross_profit_list = list(df_fin.loc['Gross Profit'])"
      ],
      "execution_count": 370,
      "outputs": []
    },
    {
      "cell_type": "code",
      "metadata": {
        "colab": {
          "base_uri": "https://localhost:8080/"
        },
        "id": "rBv2VB6-eK1c",
        "outputId": "69848b2f-8041-48da-8ec0-55402d178e27"
      },
      "source": [
        "growth_rate = (total_revenue_list[0]-total_revenue_list[1])/total_revenue_list[1]\n",
        "print(growth_rate)"
      ],
      "execution_count": 371,
      "outputs": [
        {
          "output_type": "stream",
          "text": [
            "0.006397835703579132\n"
          ],
          "name": "stdout"
        }
      ]
    },
    {
      "cell_type": "code",
      "metadata": {
        "colab": {
          "base_uri": "https://localhost:8080/",
          "height": 700
        },
        "id": "vwQeUS_X9skI",
        "outputId": "1026cd2d-fe3c-46c2-a29f-abcea61f64aa"
      },
      "source": [
        "cashflow"
      ],
      "execution_count": 372,
      "outputs": [
        {
          "output_type": "execute_result",
          "data": {
            "text/html": [
              "<div>\n",
              "<style scoped>\n",
              "    .dataframe tbody tr th:only-of-type {\n",
              "        vertical-align: middle;\n",
              "    }\n",
              "\n",
              "    .dataframe tbody tr th {\n",
              "        vertical-align: top;\n",
              "    }\n",
              "\n",
              "    .dataframe thead th {\n",
              "        text-align: right;\n",
              "    }\n",
              "</style>\n",
              "<table border=\"1\" class=\"dataframe\">\n",
              "  <thead>\n",
              "    <tr style=\"text-align: right;\">\n",
              "      <th></th>\n",
              "      <th>2020</th>\n",
              "      <th>2019</th>\n",
              "      <th>2018</th>\n",
              "      <th>2017</th>\n",
              "    </tr>\n",
              "    <tr>\n",
              "      <th>Category</th>\n",
              "      <th></th>\n",
              "      <th></th>\n",
              "      <th></th>\n",
              "      <th></th>\n",
              "    </tr>\n",
              "  </thead>\n",
              "  <tbody>\n",
              "    <tr>\n",
              "      <th>Investments</th>\n",
              "      <td>-8.952000e+09</td>\n",
              "      <td>-5.330000e+08</td>\n",
              "      <td>-1.337000e+09</td>\n",
              "      <td>2.196400e+10</td>\n",
              "    </tr>\n",
              "    <tr>\n",
              "      <th>Change To Liabilities</th>\n",
              "      <td>5.141000e+09</td>\n",
              "      <td>4.060000e+09</td>\n",
              "      <td>3.951000e+09</td>\n",
              "      <td>2.725000e+09</td>\n",
              "    </tr>\n",
              "    <tr>\n",
              "      <th>Total Cashflows From Investing Activities</th>\n",
              "      <td>-2.082500e+10</td>\n",
              "      <td>-6.194000e+09</td>\n",
              "      <td>-3.167000e+09</td>\n",
              "      <td>-1.486800e+10</td>\n",
              "    </tr>\n",
              "    <tr>\n",
              "      <th>Net Borrowings</th>\n",
              "      <td>7.095000e+09</td>\n",
              "      <td>-2.881000e+09</td>\n",
              "      <td>-3.949000e+09</td>\n",
              "      <td>6.754000e+09</td>\n",
              "    </tr>\n",
              "    <tr>\n",
              "      <th>Total Cash From Financing Activities</th>\n",
              "      <td>-6.120000e+09</td>\n",
              "      <td>-1.801500e+10</td>\n",
              "      <td>-1.851000e+10</td>\n",
              "      <td>-7.673000e+09</td>\n",
              "    </tr>\n",
              "    <tr>\n",
              "      <th>Change To Operating Activities</th>\n",
              "      <td>-2.960000e+09</td>\n",
              "      <td>3.710000e+08</td>\n",
              "      <td>-2.119000e+09</td>\n",
              "      <td>8.568000e+09</td>\n",
              "    </tr>\n",
              "    <tr>\n",
              "      <th>Issuance Of Stock</th>\n",
              "      <td>1.114000e+09</td>\n",
              "      <td>9.540000e+08</td>\n",
              "      <td>9.490000e+08</td>\n",
              "      <td>1.062000e+09</td>\n",
              "    </tr>\n",
              "    <tr>\n",
              "      <th>Net Income</th>\n",
              "      <td>1.471400e+10</td>\n",
              "      <td>1.511900e+10</td>\n",
              "      <td>1.529700e+10</td>\n",
              "      <td>1.300000e+09</td>\n",
              "    </tr>\n",
              "    <tr>\n",
              "      <th>Change In Cash</th>\n",
              "      <td>-3.320000e+09</td>\n",
              "      <td>-8.020000e+08</td>\n",
              "      <td>2.830000e+08</td>\n",
              "      <td>-1.148000e+09</td>\n",
              "    </tr>\n",
              "    <tr>\n",
              "      <th>Repurchase Of Stock</th>\n",
              "      <td>-3.221000e+09</td>\n",
              "      <td>-6.746000e+09</td>\n",
              "      <td>-5.868000e+09</td>\n",
              "      <td>-6.358000e+09</td>\n",
              "    </tr>\n",
              "    <tr>\n",
              "      <th>Effect Of Exchange Rate</th>\n",
              "      <td>8.900000e+07</td>\n",
              "      <td>-9.000000e+06</td>\n",
              "      <td>-2.410000e+08</td>\n",
              "      <td>3.370000e+08</td>\n",
              "    </tr>\n",
              "    <tr>\n",
              "      <th>Total Cash From Operating Activities</th>\n",
              "      <td>2.353600e+10</td>\n",
              "      <td>2.341600e+10</td>\n",
              "      <td>2.220100e+10</td>\n",
              "      <td>2.105600e+10</td>\n",
              "    </tr>\n",
              "    <tr>\n",
              "      <th>Depreciation</th>\n",
              "      <td>7.231000e+09</td>\n",
              "      <td>7.009000e+09</td>\n",
              "      <td>6.929000e+09</td>\n",
              "      <td>5.642000e+09</td>\n",
              "    </tr>\n",
              "    <tr>\n",
              "      <th>Other Cashflows From Investing Activities</th>\n",
              "      <td>-1.508000e+09</td>\n",
              "      <td>3.820000e+08</td>\n",
              "      <td>-4.640000e+08</td>\n",
              "      <td>-2.340000e+08</td>\n",
              "    </tr>\n",
              "    <tr>\n",
              "      <th>Dividends Paid</th>\n",
              "      <td>-1.048100e+10</td>\n",
              "      <td>-9.917000e+09</td>\n",
              "      <td>-9.494000e+09</td>\n",
              "      <td>-8.943000e+09</td>\n",
              "    </tr>\n",
              "    <tr>\n",
              "      <th>Change To Inventory</th>\n",
              "      <td>-2.650000e+08</td>\n",
              "      <td>-2.770000e+08</td>\n",
              "      <td>-6.440000e+08</td>\n",
              "      <td>5.810000e+08</td>\n",
              "    </tr>\n",
              "    <tr>\n",
              "      <th>Change To Account Receivables</th>\n",
              "      <td>7.740000e+08</td>\n",
              "      <td>-2.890000e+08</td>\n",
              "      <td>-1.185000e+09</td>\n",
              "      <td>-6.330000e+08</td>\n",
              "    </tr>\n",
              "    <tr>\n",
              "      <th>Other Cashflows From Financing Activities</th>\n",
              "      <td>-6.270000e+08</td>\n",
              "      <td>5.750000e+08</td>\n",
              "      <td>-1.480000e+08</td>\n",
              "      <td>-1.880000e+08</td>\n",
              "    </tr>\n",
              "    <tr>\n",
              "      <th>Change To Netincome</th>\n",
              "      <td>-1.099000e+09</td>\n",
              "      <td>-2.577000e+09</td>\n",
              "      <td>-2.800000e+07</td>\n",
              "      <td>2.873000e+09</td>\n",
              "    </tr>\n",
              "    <tr>\n",
              "      <th>Capital Expenditures</th>\n",
              "      <td>-3.347000e+09</td>\n",
              "      <td>-3.498000e+09</td>\n",
              "      <td>-3.670000e+09</td>\n",
              "      <td>-3.279000e+09</td>\n",
              "    </tr>\n",
              "  </tbody>\n",
              "</table>\n",
              "</div>"
            ],
            "text/plain": [
              "                                                   2020  ...          2017\n",
              "Category                                                 ...              \n",
              "Investments                               -8.952000e+09  ...  2.196400e+10\n",
              "Change To Liabilities                      5.141000e+09  ...  2.725000e+09\n",
              "Total Cashflows From Investing Activities -2.082500e+10  ... -1.486800e+10\n",
              "Net Borrowings                             7.095000e+09  ...  6.754000e+09\n",
              "Total Cash From Financing Activities      -6.120000e+09  ... -7.673000e+09\n",
              "Change To Operating Activities            -2.960000e+09  ...  8.568000e+09\n",
              "Issuance Of Stock                          1.114000e+09  ...  1.062000e+09\n",
              "Net Income                                 1.471400e+10  ...  1.300000e+09\n",
              "Change In Cash                            -3.320000e+09  ... -1.148000e+09\n",
              "Repurchase Of Stock                       -3.221000e+09  ... -6.358000e+09\n",
              "Effect Of Exchange Rate                    8.900000e+07  ...  3.370000e+08\n",
              "Total Cash From Operating Activities       2.353600e+10  ...  2.105600e+10\n",
              "Depreciation                               7.231000e+09  ...  5.642000e+09\n",
              "Other Cashflows From Investing Activities -1.508000e+09  ... -2.340000e+08\n",
              "Dividends Paid                            -1.048100e+10  ... -8.943000e+09\n",
              "Change To Inventory                       -2.650000e+08  ...  5.810000e+08\n",
              "Change To Account Receivables              7.740000e+08  ... -6.330000e+08\n",
              "Other Cashflows From Financing Activities -6.270000e+08  ... -1.880000e+08\n",
              "Change To Netincome                       -1.099000e+09  ...  2.873000e+09\n",
              "Capital Expenditures                      -3.347000e+09  ... -3.279000e+09\n",
              "\n",
              "[20 rows x 4 columns]"
            ]
          },
          "metadata": {},
          "execution_count": 372
        }
      ]
    },
    {
      "cell_type": "code",
      "metadata": {
        "id": "daq_dv2ZscCd"
      },
      "source": [
        "capX_list = list(cashflow.loc['Capital Expenditures'])\n",
        "depreciation_list = list(cashflow.loc['Depreciation'])"
      ],
      "execution_count": 373,
      "outputs": []
    },
    {
      "cell_type": "code",
      "metadata": {
        "id": "JVQ0THUJ9wui"
      },
      "source": [
        "df_cash = cashflow.loc[['Depreciation', 'Net Income']]"
      ],
      "execution_count": 374,
      "outputs": []
    },
    {
      "cell_type": "code",
      "metadata": {
        "id": "_agmOHcS_VGh"
      },
      "source": [
        "df_bal = bal_sheet.loc[['Cash', 'Inventory']]"
      ],
      "execution_count": 375,
      "outputs": []
    },
    {
      "cell_type": "code",
      "metadata": {
        "colab": {
          "base_uri": "https://localhost:8080/"
        },
        "id": "DIqHqSQYnrHv",
        "outputId": "36751fb1-85a7-4705-d977-050b233348dc"
      },
      "source": [
        "cash_list = list(bal_sheet.loc['Cash'])\n",
        "cash_list"
      ],
      "execution_count": 376,
      "outputs": [
        {
          "output_type": "execute_result",
          "data": {
            "text/plain": [
              "[13985000000.0, 17305000000.0, 18107000000.0, 17824000000.0]"
            ]
          },
          "metadata": {},
          "execution_count": 376
        }
      ]
    },
    {
      "cell_type": "code",
      "metadata": {
        "colab": {
          "base_uri": "https://localhost:8080/"
        },
        "id": "HaYiz3eYeKBB",
        "outputId": "13997808-a767-4118-a57b-00dbae44ccec"
      },
      "source": [
        "research_list"
      ],
      "execution_count": 377,
      "outputs": [
        {
          "output_type": "execute_result",
          "data": {
            "text/plain": [
              "[12159000000.0, 11355000000.0, 10775000000.0, 10594000000.0]"
            ]
          },
          "metadata": {},
          "execution_count": 377
        }
      ]
    },
    {
      "cell_type": "code",
      "metadata": {
        "colab": {
          "base_uri": "https://localhost:8080/"
        },
        "id": "dri01Vah6DJ0",
        "outputId": "d9f9fc34-2909-401a-f8ec-a8710a442714"
      },
      "source": [
        "total_revenue_list"
      ],
      "execution_count": 378,
      "outputs": [
        {
          "output_type": "execute_result",
          "data": {
            "text/plain": [
              "[82584000000.0, 82059000000.0, 81581000000.0, 76450000000.0]"
            ]
          },
          "metadata": {},
          "execution_count": 378
        }
      ]
    },
    {
      "cell_type": "code",
      "metadata": {
        "colab": {
          "base_uri": "https://localhost:8080/"
        },
        "id": "UpwuWflmxn2U",
        "outputId": "b394ba02-6674-4cbe-9fa4-dc1e624efd15"
      },
      "source": [
        "gross_margins_list = [gross_profit_list[0] /  total_revenue_list[0], gross_profit_list[1] /  total_revenue_list[1], gross_profit_list[2] /  total_revenue_list[2], gross_profit_list[3] /  total_revenue_list[3]]\n",
        "print(gross_margins_list)"
      ],
      "execution_count": 379,
      "outputs": [
        {
          "output_type": "stream",
          "text": [
            "[0.6569916690884433, 0.6641928368612827, 0.6679251296257707, 0.6672465663832571]\n"
          ],
          "name": "stdout"
        }
      ]
    },
    {
      "cell_type": "code",
      "metadata": {
        "colab": {
          "base_uri": "https://localhost:8080/"
        },
        "id": "T9fJCg9ddEUI",
        "outputId": "d3a917a9-66e1-4cf2-a7ae-af39d6458335"
      },
      "source": [
        "SGA_Ratio = [sga_list[0]/ gross_profit_list[0], sga_list[1]/ gross_profit_list[1], sga_list[2]/ gross_profit_list[2], sga_list[3]/ gross_profit_list[3]]\n",
        "print(SGA_Ratio)"
      ],
      "execution_count": 380,
      "outputs": [
        {
          "output_type": "stream",
          "text": [
            "[0.40702582155297934, 0.40691338091481205, 0.4136538814461369, 0.4218697927897904]\n"
          ],
          "name": "stdout"
        }
      ]
    },
    {
      "cell_type": "code",
      "metadata": {
        "colab": {
          "base_uri": "https://localhost:8080/"
        },
        "id": "FK9aZVJVe8ql",
        "outputId": "eadb0b7b-13d1-42eb-b9b7-70c3ce7d8b9a"
      },
      "source": [
        "try:\n",
        "  research_ratio = [research_list[0] / gross_profit_list[0],research_list[1] / gross_profit_list[1],research_list[2] / gross_profit_list[2],research_list[3] / gross_profit_list[3]]\n",
        "  print(research_ratio)\n",
        "except:\n",
        "  print('None')"
      ],
      "execution_count": 381,
      "outputs": [
        {
          "output_type": "stream",
          "text": [
            "[0.2241001161140498, 0.20833715575289433, 0.19774270508350156, 0.20768069632040148]\n"
          ],
          "name": "stdout"
        }
      ]
    },
    {
      "cell_type": "code",
      "metadata": {
        "colab": {
          "base_uri": "https://localhost:8080/"
        },
        "id": "x7OFoln0ff74",
        "outputId": "c57433f1-7f0c-4a6b-c432-6f785feceb73"
      },
      "source": [
        "depreciation_ratio = [depreciation_list[0] / gross_profit_list [0], depreciation_list[1] / gross_profit_list [1], depreciation_list[2] / gross_profit_list [2], depreciation_list[3] / gross_profit_list [3]]\n",
        "print(depreciation_ratio)"
      ],
      "execution_count": 382,
      "outputs": [
        {
          "output_type": "stream",
          "text": [
            "[0.13327312604825184, 0.128598425774728, 0.12716094696274546, 0.11060359530297387]\n"
          ],
          "name": "stdout"
        }
      ]
    },
    {
      "cell_type": "code",
      "metadata": {
        "colab": {
          "base_uri": "https://localhost:8080/"
        },
        "id": "WnZLd4Hdgcxy",
        "outputId": "d98db0e9-6321-4d0b-c1ff-a392d10af54c"
      },
      "source": [
        "interest_ratio = [interest_list[0] / gross_profit_list[0], interest_list[1] / gross_profit_list[1], interest_list[2] / gross_profit_list[2], interest_list[3] / gross_profit_list[3]]\n",
        "print(interest_ratio)"
      ],
      "execution_count": 383,
      "outputs": [
        {
          "output_type": "stream",
          "text": [
            "[-0.00370459111266749, -0.00583454121791461, -0.01844375114699945, -0.018309776322753917]\n"
          ],
          "name": "stdout"
        }
      ]
    },
    {
      "cell_type": "code",
      "metadata": {
        "colab": {
          "base_uri": "https://localhost:8080/"
        },
        "id": "PYAZFItMWC2x",
        "outputId": "87a3935a-76e5-4c3d-fad2-2850a0902485"
      },
      "source": [
        "operating_cashflow_list = list(cashflow.loc['Total Cash From Operating Activities'])\n",
        "free_cashflow_list = [operating_cashflow_list[0] + capX_list[0], operating_cashflow_list[1] + capX_list[1], operating_cashflow_list[2] + capX_list[2], operating_cashflow_list[3] + capX_list[3]]\n",
        "print(free_cashflow_list)"
      ],
      "execution_count": 384,
      "outputs": [
        {
          "output_type": "stream",
          "text": [
            "[20189000000.0, 19918000000.0, 18531000000.0, 17777000000.0]\n"
          ],
          "name": "stdout"
        }
      ]
    },
    {
      "cell_type": "code",
      "metadata": {
        "id": "LYEZh_9erWkT"
      },
      "source": [
        "#ttm_cash = float(free_cash_flow_manual[0])\n",
        "last_year_cash = float(free_cashflow_list[0])\n",
        "two_year_cash = float(free_cashflow_list[1])\n",
        "three_year_cash = float(free_cashflow_list[2])\n",
        "four_year_cash = float(free_cashflow_list[3])\n"
      ],
      "execution_count": 385,
      "outputs": []
    },
    {
      "cell_type": "code",
      "metadata": {
        "colab": {
          "base_uri": "https://localhost:8080/"
        },
        "id": "dYX1-YTIr-Hf",
        "outputId": "1f89472d-3e42-47d6-da33-52deb64baa5a"
      },
      "source": [
        "cashflow_growth_rate = [(last_year_cash- two_year_cash)/ two_year_cash, (two_year_cash - three_year_cash)/ three_year_cash, (three_year_cash - four_year_cash)/ four_year_cash]\n",
        "print(cashflow_growth_rate)"
      ],
      "execution_count": 386,
      "outputs": [
        {
          "output_type": "stream",
          "text": [
            "[0.013605783713224219, 0.07484755274944688, 0.04241435562805873]\n"
          ],
          "name": "stdout"
        }
      ]
    },
    {
      "cell_type": "code",
      "metadata": {
        "colab": {
          "base_uri": "https://localhost:8080/"
        },
        "id": "BwBcaFRJ3qj-",
        "outputId": "0ba15420-7c84-4d5c-dafd-b490fc180299"
      },
      "source": [
        "dividend = ticker.info['dividendRate']\n",
        "print(dividend)"
      ],
      "execution_count": 387,
      "outputs": [
        {
          "output_type": "stream",
          "text": [
            "4.24\n"
          ],
          "name": "stdout"
        }
      ]
    },
    {
      "cell_type": "code",
      "metadata": {
        "colab": {
          "base_uri": "https://localhost:8080/"
        },
        "id": "8X_3IDh6cJRt",
        "outputId": "6f2f52cd-20bc-4fd0-e124-fe6b0bd0b86d"
      },
      "source": [
        "earnings_df = ticker.earnings\n",
        "earnings_list = list(ticker.earnings['Earnings'])\n",
        "print(earnings_list)\n",
        "eps_est_list = [earnings_list[0] / shares_outstanding, earnings_list[1] / shares_outstanding, earnings_list[2] / shares_outstanding]\n",
        "print(eps_est_list)\n"
      ],
      "execution_count": 388,
      "outputs": [
        {
          "output_type": "stream",
          "text": [
            "[1300000000, 15297000000, 15119000000, 14714000000]\n",
            "[0.49383091229563, 5.810870357989424, 5.743253509998176]\n"
          ],
          "name": "stdout"
        }
      ]
    },
    {
      "cell_type": "code",
      "metadata": {
        "colab": {
          "base_uri": "https://localhost:8080/"
        },
        "id": "7vH1J7TP5wfT",
        "outputId": "4fd01c71-bd1f-4ece-eea0-acd5197ccdbc"
      },
      "source": [
        "total_assets_list = list(bal_sheet.loc['Total Assets'])\n",
        "liability_list = list(bal_sheet.loc['Total Liab'])\n",
        "Shareholdr_equity_list = [total_assets_list[0]-liability_list[0], total_assets_list[1]-liability_list[1], total_assets_list[2]-liability_list[2], total_assets_list[3]-liability_list[3]]\n",
        "\n",
        "print(total_assets_list)\n",
        "print(liability_list)\n",
        "print(Shareholdr_equity_list)"
      ],
      "execution_count": 389,
      "outputs": [
        {
          "output_type": "stream",
          "text": [
            "[174894000000.0, 157728000000.0, 152954000000.0, 157303000000.0]\n",
            "[111616000000.0, 98257000000.0, 93202000000.0, 97143000000.0]\n",
            "[63278000000.0, 59471000000.0, 59752000000.0, 60160000000.0]\n"
          ],
          "name": "stdout"
        }
      ]
    },
    {
      "cell_type": "markdown",
      "metadata": {
        "id": "Ak-dmsMQxBa8"
      },
      "source": [
        ""
      ]
    },
    {
      "cell_type": "code",
      "metadata": {
        "id": "d8ealcdP7YTa",
        "colab": {
          "base_uri": "https://localhost:8080/"
        },
        "outputId": "263b05bc-33fb-4c61-dfea-9272570021c5"
      },
      "source": [
        "dividend_rate = str(ticker.info['dividendRate'])\n",
        "dividend_yield2 = str(ticker.info['dividendYield'])\n",
        "try:\n",
        "  dividend_yield = \"{:.2%}\".format(ticker.info['dividendYield'])\n",
        "except: \n",
        "  print('No Divs')\n",
        "print(dividend_yield)"
      ],
      "execution_count": 390,
      "outputs": [
        {
          "output_type": "stream",
          "text": [
            "2.45%\n"
          ],
          "name": "stdout"
        }
      ]
    },
    {
      "cell_type": "markdown",
      "metadata": {
        "id": "kPadsdKG4Qf4"
      },
      "source": [
        "\n",
        "\n",
        "```\n",
        "# This is formatted as code\n",
        "```\n",
        "\n",
        "# Data Conversions"
      ]
    },
    {
      "cell_type": "code",
      "metadata": {
        "colab": {
          "base_uri": "https://localhost:8080/"
        },
        "id": "MqD033-uZnVZ",
        "outputId": "e15598af-9b45-46be-db4d-cad3eaa96627"
      },
      "source": [
        "current_priceSTR= str(ticker.info['currentPrice'])\n",
        "gross_margin_current = f\"{gross_margin:.2%}\"\n",
        "gross_margin_hist = []\n",
        "for i in gross_margins_list:\n",
        "  gross_margin_hist.append(f\"{i:.2%}\")\n",
        "\n",
        "print(gross_margin_hist)\n",
        "\n",
        "gross_marginSTR= ', '.join(map(str, gross_margin_hist))\n",
        "  \n",
        "print(gross_marginSTR)"
      ],
      "execution_count": 391,
      "outputs": [
        {
          "output_type": "stream",
          "text": [
            "['65.70%', '66.42%', '66.79%', '66.72%']\n",
            "65.70%, 66.42%, 66.79%, 66.72%\n"
          ],
          "name": "stdout"
        }
      ]
    },
    {
      "cell_type": "code",
      "metadata": {
        "colab": {
          "base_uri": "https://localhost:8080/"
        },
        "id": "COpOsnHfI_2Z",
        "outputId": "f3a87885-5494-4d5d-c20c-6de5e26c71c2"
      },
      "source": [
        "years = [current_year - 1,current_year - 2, current_year - 3,current_year - 4]\n",
        "\n",
        "def merge(list1, list2):\n",
        "      \n",
        "    merged_list = tuple(zip(list1, list2)) \n",
        "    return merged_list\n",
        "      \n",
        "# Driver code\n",
        "earnings_tuples = merge(years, earnings_list)\n",
        "free_cash_merge = merge(years, free_cashflow_list)\n",
        "gross_margin_tuples = (merge(years, gross_margin_hist))\n",
        "SGA_Ratio_tuples = (merge(years,SGA_Ratio))\n",
        "research_ratio_tuples = merge(years,research_ratio)\n",
        "cashflow_growth = merge(years,cashflow_growth_rate)\n",
        "gross_profit_merge = merge(years,gross_profit_list)\n",
        "total_revenue_merge = merge(years,total_revenue_list)\n",
        "\n",
        "print(cashflow_growth)"
      ],
      "execution_count": 392,
      "outputs": [
        {
          "output_type": "stream",
          "text": [
            "((2020, 0.013605783713224219), (2019, 0.07484755274944688), (2018, 0.04241435562805873))\n"
          ],
          "name": "stdout"
        }
      ]
    },
    {
      "cell_type": "code",
      "metadata": {
        "colab": {
          "base_uri": "https://localhost:8080/",
          "height": 173
        },
        "id": "hhBq5iXfO86F",
        "outputId": "be4fd72c-7b6b-4753-adad-183d6f8c4d2a"
      },
      "source": [
        "# create DataFrame using data\n",
        "def tuples_to_df(tuple):\n",
        "  new_df = pd.DataFrame(tuple, columns =['Years', 'Measure'])\n",
        "  return new_df\n",
        "  \n",
        "\n",
        "sga_df = tuples_to_df(SGA_Ratio_tuples)\n",
        "research_df = tuples_to_df(research_ratio_tuples)\n",
        "research_df.Measure = (research_df.Measure * 100).round(decimals=2)\n",
        "gross_margin_df = tuples_to_df(gross_margin_tuples)\n",
        "cashflow_growth_df = tuples_to_df(cashflow_growth).round(decimals=2)\n",
        "grossprofit_df = tuples_to_df(gross_profit_merge).round(decimals=2)\n",
        "total_revenue_df = tuples_to_df(total_revenue_merge)\n",
        "free_cash_df = tuples_to_df(free_cash_merge)\n",
        "earnings_df = tuples_to_df(earnings_tuples)\n",
        "free_cash_df"
      ],
      "execution_count": 393,
      "outputs": [
        {
          "output_type": "execute_result",
          "data": {
            "text/html": [
              "<div>\n",
              "<style scoped>\n",
              "    .dataframe tbody tr th:only-of-type {\n",
              "        vertical-align: middle;\n",
              "    }\n",
              "\n",
              "    .dataframe tbody tr th {\n",
              "        vertical-align: top;\n",
              "    }\n",
              "\n",
              "    .dataframe thead th {\n",
              "        text-align: right;\n",
              "    }\n",
              "</style>\n",
              "<table border=\"1\" class=\"dataframe\">\n",
              "  <thead>\n",
              "    <tr style=\"text-align: right;\">\n",
              "      <th></th>\n",
              "      <th>Years</th>\n",
              "      <th>Measure</th>\n",
              "    </tr>\n",
              "  </thead>\n",
              "  <tbody>\n",
              "    <tr>\n",
              "      <th>0</th>\n",
              "      <td>2020</td>\n",
              "      <td>2.018900e+10</td>\n",
              "    </tr>\n",
              "    <tr>\n",
              "      <th>1</th>\n",
              "      <td>2019</td>\n",
              "      <td>1.991800e+10</td>\n",
              "    </tr>\n",
              "    <tr>\n",
              "      <th>2</th>\n",
              "      <td>2018</td>\n",
              "      <td>1.853100e+10</td>\n",
              "    </tr>\n",
              "    <tr>\n",
              "      <th>3</th>\n",
              "      <td>2017</td>\n",
              "      <td>1.777700e+10</td>\n",
              "    </tr>\n",
              "  </tbody>\n",
              "</table>\n",
              "</div>"
            ],
            "text/plain": [
              "   Years       Measure\n",
              "0   2020  2.018900e+10\n",
              "1   2019  1.991800e+10\n",
              "2   2018  1.853100e+10\n",
              "3   2017  1.777700e+10"
            ]
          },
          "metadata": {},
          "execution_count": 393
        }
      ]
    },
    {
      "cell_type": "code",
      "metadata": {
        "colab": {
          "base_uri": "https://localhost:8080/"
        },
        "id": "OrAyQ1iQ-Z42",
        "outputId": "04142f91-6d4e-49e4-9d6f-2b3abed3d19d"
      },
      "source": [
        "free_cashflow_list"
      ],
      "execution_count": 394,
      "outputs": [
        {
          "output_type": "execute_result",
          "data": {
            "text/plain": [
              "[20189000000.0, 19918000000.0, 18531000000.0, 17777000000.0]"
            ]
          },
          "metadata": {},
          "execution_count": 394
        }
      ]
    },
    {
      "cell_type": "code",
      "metadata": {
        "colab": {
          "base_uri": "https://localhost:8080/",
          "height": 173
        },
        "id": "32iidcupZamt",
        "outputId": "77f869ea-9100-402d-8e63-70040908b25f"
      },
      "source": [
        "total_revenue_df"
      ],
      "execution_count": 395,
      "outputs": [
        {
          "output_type": "execute_result",
          "data": {
            "text/html": [
              "<div>\n",
              "<style scoped>\n",
              "    .dataframe tbody tr th:only-of-type {\n",
              "        vertical-align: middle;\n",
              "    }\n",
              "\n",
              "    .dataframe tbody tr th {\n",
              "        vertical-align: top;\n",
              "    }\n",
              "\n",
              "    .dataframe thead th {\n",
              "        text-align: right;\n",
              "    }\n",
              "</style>\n",
              "<table border=\"1\" class=\"dataframe\">\n",
              "  <thead>\n",
              "    <tr style=\"text-align: right;\">\n",
              "      <th></th>\n",
              "      <th>Years</th>\n",
              "      <th>Measure</th>\n",
              "    </tr>\n",
              "  </thead>\n",
              "  <tbody>\n",
              "    <tr>\n",
              "      <th>0</th>\n",
              "      <td>2020</td>\n",
              "      <td>8.258400e+10</td>\n",
              "    </tr>\n",
              "    <tr>\n",
              "      <th>1</th>\n",
              "      <td>2019</td>\n",
              "      <td>8.205900e+10</td>\n",
              "    </tr>\n",
              "    <tr>\n",
              "      <th>2</th>\n",
              "      <td>2018</td>\n",
              "      <td>8.158100e+10</td>\n",
              "    </tr>\n",
              "    <tr>\n",
              "      <th>3</th>\n",
              "      <td>2017</td>\n",
              "      <td>7.645000e+10</td>\n",
              "    </tr>\n",
              "  </tbody>\n",
              "</table>\n",
              "</div>"
            ],
            "text/plain": [
              "   Years       Measure\n",
              "0   2020  8.258400e+10\n",
              "1   2019  8.205900e+10\n",
              "2   2018  8.158100e+10\n",
              "3   2017  7.645000e+10"
            ]
          },
          "metadata": {},
          "execution_count": 395
        }
      ]
    },
    {
      "cell_type": "code",
      "metadata": {
        "colab": {
          "base_uri": "https://localhost:8080/",
          "height": 173
        },
        "id": "kTwrAuqa-zni",
        "outputId": "0c86bf81-b0a8-47f6-a732-a36a3422d10a"
      },
      "source": [
        "earnings_df"
      ],
      "execution_count": 396,
      "outputs": [
        {
          "output_type": "execute_result",
          "data": {
            "text/html": [
              "<div>\n",
              "<style scoped>\n",
              "    .dataframe tbody tr th:only-of-type {\n",
              "        vertical-align: middle;\n",
              "    }\n",
              "\n",
              "    .dataframe tbody tr th {\n",
              "        vertical-align: top;\n",
              "    }\n",
              "\n",
              "    .dataframe thead th {\n",
              "        text-align: right;\n",
              "    }\n",
              "</style>\n",
              "<table border=\"1\" class=\"dataframe\">\n",
              "  <thead>\n",
              "    <tr style=\"text-align: right;\">\n",
              "      <th></th>\n",
              "      <th>Years</th>\n",
              "      <th>Measure</th>\n",
              "    </tr>\n",
              "  </thead>\n",
              "  <tbody>\n",
              "    <tr>\n",
              "      <th>0</th>\n",
              "      <td>2020</td>\n",
              "      <td>1300000000</td>\n",
              "    </tr>\n",
              "    <tr>\n",
              "      <th>1</th>\n",
              "      <td>2019</td>\n",
              "      <td>15297000000</td>\n",
              "    </tr>\n",
              "    <tr>\n",
              "      <th>2</th>\n",
              "      <td>2018</td>\n",
              "      <td>15119000000</td>\n",
              "    </tr>\n",
              "    <tr>\n",
              "      <th>3</th>\n",
              "      <td>2017</td>\n",
              "      <td>14714000000</td>\n",
              "    </tr>\n",
              "  </tbody>\n",
              "</table>\n",
              "</div>"
            ],
            "text/plain": [
              "   Years      Measure\n",
              "0   2020   1300000000\n",
              "1   2019  15297000000\n",
              "2   2018  15119000000\n",
              "3   2017  14714000000"
            ]
          },
          "metadata": {},
          "execution_count": 396
        }
      ]
    },
    {
      "cell_type": "markdown",
      "metadata": {
        "id": "27i99HKq5faS"
      },
      "source": [
        "# Charts and Tables"
      ]
    },
    {
      "cell_type": "code",
      "metadata": {
        "colab": {
          "base_uri": "https://localhost:8080/",
          "height": 352
        },
        "id": "brOLp8n2iw84",
        "outputId": "62c59884-9b77-4ff5-c58a-62844e444f83"
      },
      "source": [
        "fig3 = plt.figure(3,(15,5))\n",
        "rev_plot= fig3.add_subplot(121)\n",
        "rev_plot.plot(total_revenue_df.Years,total_revenue_df.Measure, 'go-')\n",
        "rev_plot.set_ylabel('Revenue in Billions')\n",
        "rev_plot.set_title('Total Revenue')\n",
        "rev_plot.xaxis.set_major_locator(MaxNLocator(integer=True))\n",
        "earnings_plot = fig3.add_subplot(122)\n",
        "earnings_plot.plot(earnings_df.Years, earnings_df.Measure, 'r^-')\n",
        "earnings_plot.xaxis.set_major_locator(MaxNLocator(integer=True))\n",
        "earnings_plot.set_title('Earnings')\n",
        "earnings_plot.set_ylabel('Earnings in Billions')\n",
        "plt.show()\n",
        "plt.savefig('earnings and revenue.png')\n",
        "fig3.savefig('earnings and revenue.png')"
      ],
      "execution_count": 397,
      "outputs": [
        {
          "output_type": "display_data",
          "data": {
            "image/png": "[encoded data removed]",
            "text/plain": [
              "<Figure size 1080x360 with 2 Axes>"
            ]
          },
          "metadata": {
            "needs_background": "light"
          }
        },
        {
          "output_type": "display_data",
          "data": {
            "text/plain": [
              "<Figure size 432x288 with 0 Axes>"
            ]
          },
          "metadata": {}
        }
      ]
    },
    {
      "cell_type": "code",
      "metadata": {
        "colab": {
          "base_uri": "https://localhost:8080/",
          "height": 377
        },
        "id": "1v0KeXBwjDs2",
        "outputId": "cd832155-a7a3-475e-8898-f4bb2988c2fd"
      },
      "source": [
        "current_recommendations_1yr['To Grade'].value_counts().plot(kind = 'bar', figsize=(15,5))\n",
        "plt.show()\n",
        "plt.savefig('recommendations bar chart.png')"
      ],
      "execution_count": 398,
      "outputs": [
        {
          "output_type": "display_data",
          "data": {
            "image/png": "[encoded data removed]",
            "text/plain": [
              "<Figure size 1080x360 with 1 Axes>"
            ]
          },
          "metadata": {
            "needs_background": "light"
          }
        },
        {
          "output_type": "display_data",
          "data": {
            "text/plain": [
              "<Figure size 432x288 with 0 Axes>"
            ]
          },
          "metadata": {}
        }
      ]
    },
    {
      "cell_type": "code",
      "metadata": {
        "colab": {
          "base_uri": "https://localhost:8080/",
          "height": 369
        },
        "id": "YSzkE8CZ-KYr",
        "outputId": "939bb022-2dc9-4b53-bf17-0aa34808d759"
      },
      "source": [
        "ticker_hist = ticker.history()\n",
        "closing_prices =ticker_hist['Close']\n",
        "closing_prices.plot(kind = 'line', figsize = (15,5))\n",
        "plt.xlabel = 'Date'\n",
        "plt.ylabel = 'Closing Price'\n",
        "plt.savefig('close price fig.jpg')"
      ],
      "execution_count": 399,
      "outputs": [
        {
          "output_type": "display_data",
          "data": {
            "image/png": "[encoded data removed]",
            "text/plain": [
              "<Figure size 1080x360 with 1 Axes>"
            ]
          },
          "metadata": {
            "needs_background": "light"
          }
        }
      ]
    },
    {
      "cell_type": "code",
      "metadata": {
        "colab": {
          "base_uri": "https://localhost:8080/",
          "height": 276
        },
        "id": "Q3_h6mWstjaZ",
        "outputId": "fcdc4363-7bd6-4c04-98e5-b0e905e13076"
      },
      "source": [
        "cashflow_dict = {'index':[0,1,2,3], 'period': ['2020', '2019', '2018', '2017'], 'cashflow':[last_year_cash,two_year_cash,three_year_cash,four_year_cash]}\n",
        "    \n",
        "   # 'ttm': ttm_cash, '2020': last_year_cash, '2019': two_year_cash, '2018': three_year_cash, '2017': four_year_cash}\n",
        "cashflow_dataframe = pd.DataFrame.from_dict(cashflow_dict)\n",
        "cashflow_dataframe = cashflow_dataframe.sort_values(by= 'index', ascending=False)\n",
        "plt.plot(cashflow_dataframe.period, cashflow_dataframe.cashflow)\n",
        "plt.show()"
      ],
      "execution_count": 400,
      "outputs": [
        {
          "output_type": "display_data",
          "data": {
            "image/png": "[encoded data removed]",
            "text/plain": [
              "<Figure size 432x288 with 1 Axes>"
            ]
          },
          "metadata": {
            "needs_background": "light"
          }
        }
      ]
    },
    {
      "cell_type": "code",
      "metadata": {
        "colab": {
          "base_uri": "https://localhost:8080/"
        },
        "id": "pZFrtu79F8x0",
        "outputId": "f553e599-9e75-4f0e-f231-f6a1ec6ef061"
      },
      "source": [
        "print(plt.style.available)"
      ],
      "execution_count": 401,
      "outputs": [
        {
          "output_type": "stream",
          "text": [
            "['Solarize_Light2', '_classic_test_patch', 'bmh', 'classic', 'dark_background', 'fast', 'fivethirtyeight', 'ggplot', 'grayscale', 'seaborn', 'seaborn-bright', 'seaborn-colorblind', 'seaborn-dark', 'seaborn-dark-palette', 'seaborn-darkgrid', 'seaborn-deep', 'seaborn-muted', 'seaborn-notebook', 'seaborn-paper', 'seaborn-pastel', 'seaborn-poster', 'seaborn-talk', 'seaborn-ticks', 'seaborn-white', 'seaborn-whitegrid', 'tableau-colorblind10']\n"
          ],
          "name": "stdout"
        }
      ]
    },
    {
      "cell_type": "code",
      "metadata": {
        "id": "L3FMVC8EGfQT"
      },
      "source": [
        "plt.style.use('seaborn')"
      ],
      "execution_count": 402,
      "outputs": []
    },
    {
      "cell_type": "code",
      "metadata": {
        "id": "4tYOKbO7rl9t"
      },
      "source": [
        "gross_margin_df = gross_margin_df.sort_index(ascending=False)"
      ],
      "execution_count": 403,
      "outputs": []
    },
    {
      "cell_type": "code",
      "metadata": {
        "colab": {
          "base_uri": "https://localhost:8080/",
          "height": 155
        },
        "id": "cxJJCcwOkitR",
        "outputId": "6b14bc71-f5b5-4f03-94b0-8b3dfa86f6a1"
      },
      "source": [
        "fig, ax =plt.subplots(figsize=(4,2))\n",
        "ax.axis('tight')\n",
        "ax.axis('off')\n",
        "the_table = ax.table(cellText = gross_margin_df.values,colLabels=sga_df.columns,loc='center')\n",
        "ax.set_title('Gross Margins')\n",
        "\n",
        "plt.savefig('sgaTbl.png')"
      ],
      "execution_count": 404,
      "outputs": [
        {
          "output_type": "display_data",
          "data": {
            "image/png": "[encoded data removed]",
            "text/plain": [
              "<Figure size 288x144 with 1 Axes>"
            ]
          },
          "metadata": {}
        }
      ]
    },
    {
      "cell_type": "code",
      "metadata": {
        "colab": {
          "base_uri": "https://localhost:8080/",
          "height": 263
        },
        "id": "SKWEED2qN3FF",
        "outputId": "3bfb76e8-67b8-4437-bba0-67b8a2e8b038"
      },
      "source": [
        "fig, ax =plt.subplots(figsize=(15,4))\n",
        "ax.axis('tight')\n",
        "ax.axis('off')\n",
        "the_table = ax.table(cellText = current_recommendations_1yr.values,colLabels=current_recommendations_6mo.columns,loc='center')\n",
        "ax.set_title('Rolling 12 mo. Recommendations')\n",
        "plt.savefig('Recommendations.png')"
      ],
      "execution_count": 405,
      "outputs": [
        {
          "output_type": "display_data",
          "data": {
            "image/png": "[encoded data removed]",
            "text/plain": [
              "<Figure size 1080x288 with 1 Axes>"
            ]
          },
          "metadata": {}
        }
      ]
    },
    {
      "cell_type": "code",
      "metadata": {
        "colab": {
          "base_uri": "https://localhost:8080/",
          "height": 568
        },
        "id": "KzGRG5Vzt_YB",
        "outputId": "278f55fc-f241-4b02-f62f-98337c250ad5"
      },
      "source": [
        "fig1 = plt.figure(1,figsize= (20,10))\n",
        "fig1.suptitle('Cashflow and Revenue Growth', fontsize = 20)\n",
        "\n",
        "def billionsFormatter(x, pos):\n",
        "  return \"$ {0}B\".format(x/1000000000)\n",
        "\n",
        "def percentFormatter(x,pos):\n",
        "  return \"{0:0.2f} %\".format(x*100)\n",
        "\n",
        "\n",
        "free_cash_plot = fig1.add_subplot(221)\n",
        "free_cash_growth = fig1.add_subplot(222)\n",
        "gross_margin_growth = fig1.add_subplot(224)\n",
        "gross_profit_chart = fig1.add_subplot(223)\n",
        "\n",
        "free_cash_plot.plot(cashflow_dataframe.period, cashflow_dataframe.cashflow, 'go-')\n",
        "free_cash_plot.set_ylabel('Free Cashflow in Billions')\n",
        "free_cash_plot.set_title('Free Cashflow', fontsize = 16)\n",
        "free_cash_plot.yaxis.set_major_formatter(plt.FuncFormatter(billionsFormatter))\n",
        "\n",
        "\n",
        "free_cash_growth.plot(cashflow_growth_df.Years, cashflow_growth_df.Measure, 'ko--')\n",
        "free_cash_growth.xaxis.set_major_locator(MaxNLocator(integer=True))\n",
        "free_cash_growth.set_ylabel('% Growth')\n",
        "free_cash_growth.set_title('Free Cashflow Growth', fontsize = 16)\n",
        "#free_cash_growth.yaxis.set_major_formatter(ticker.PercentFormatter(xmax=5))\n",
        "free_cash_growth.yaxis.set_major_formatter(plt.FuncFormatter(percentFormatter))\n",
        "\n",
        "gross_margin_growth.plot(gross_margin_df.Years, gross_margin_df.Measure, 'c^-')\n",
        "gross_margin_growth.xaxis.set_major_locator(MaxNLocator(integer=True))\n",
        "gross_margin_growth.set_ylabel('Gross Margin %')\n",
        "gross_margin_growth.invert_yaxis=False\n",
        "gross_margin_growth.set_title('Gross Margins', fontsize = 16)\n",
        "#gross_margin_growth.set_ylim(20, 80)\n",
        "\n",
        "\n",
        "gross_profit_chart.plot(grossprofit_df.Years, grossprofit_df.Measure)\n",
        "gross_profit_chart.xaxis.set_major_locator(MaxNLocator(integer=True))\n",
        "gross_profit_chart.set_ylabel('Gross Profits in Billions')\n",
        "gross_profit_chart.set_title('Gross Profits', fontsize = 16)\n",
        "#gross_profit_chart.yaxis.set_major_formatter(ticker.StrMethodFormatter('${x:0.2f}'))\n",
        "gross_profit_chart.yaxis.set_major_formatter(plt.FuncFormatter(billionsFormatter))\n",
        "\n",
        "\n",
        "plt.show()\n",
        "\n",
        "fig1.savefig('profits and cash.png')\n",
        "\n"
      ],
      "execution_count": 416,
      "outputs": [
        {
          "output_type": "display_data",
          "data": {
            "image/png": "[encoded data removed]",
            "text/plain": [
              "<Figure size 1440x720 with 4 Axes>"
            ]
          },
          "metadata": {}
        }
      ]
    },
    {
      "cell_type": "code",
      "metadata": {
        "colab": {
          "base_uri": "https://localhost:8080/"
        },
        "id": "CbplGY_zQB_o",
        "outputId": "f7c86c18-ad66-448c-d265-250d2dc2380a"
      },
      "source": [
        "(current_recommendations_6mo['To Grade'])"
      ],
      "execution_count": 407,
      "outputs": [
        {
          "output_type": "execute_result",
          "data": {
            "text/plain": [
              "Series([], Name: To Grade, dtype: object)"
            ]
          },
          "metadata": {},
          "execution_count": 407
        }
      ]
    },
    {
      "cell_type": "markdown",
      "metadata": {
        "id": "Ayg2mAYn4Htx"
      },
      "source": [
        "# Value Models\n"
      ]
    },
    {
      "cell_type": "markdown",
      "metadata": {
        "id": "XeTq4bPJvWE4"
      },
      "source": [
        "EPS Method"
      ]
    },
    {
      "cell_type": "code",
      "metadata": {
        "id": "TyW4yJ0AOXtl",
        "colab": {
          "base_uri": "https://localhost:8080/",
          "height": 37
        },
        "outputId": "cffaaff3-e8f7-4712-f180-afbcadad2d1b"
      },
      "source": [
        "trailing_eps = ticker.info['trailingEps']\n",
        "five_yr_intrinsic = (trailing_eps * (1+ fcf_growth_average)**5) * pe_ratio\n",
        "Fair_Market_Value_EPS_Method = str(\"${:,.2f}\".format(five_yr_intrinsic/(1+.10)**5))\n",
        "Fair_Market_Value_EPS_Method"
      ],
      "execution_count": 408,
      "outputs": [
        {
          "output_type": "execute_result",
          "data": {
            "application/vnd.google.colaboratory.intrinsic+json": {
              "type": "string"
            },
            "text/plain": [
              "'$173.89'"
            ]
          },
          "metadata": {},
          "execution_count": 408
        }
      ]
    },
    {
      "cell_type": "markdown",
      "metadata": {
        "id": "_zWvg-HI9ig2"
      },
      "source": [
        "Discounted Free Cashflow Model"
      ]
    },
    {
      "cell_type": "code",
      "metadata": {
        "colab": {
          "base_uri": "https://localhost:8080/"
        },
        "id": "MQQ94EgSExVN",
        "outputId": "75216850-2806-4b85-c9a1-22c2859ae157"
      },
      "source": [
        "year_zero = free_cashflow_list[0]\n",
        "year_neg_one = free_cashflow_list[1]\n",
        "year_neg_two = free_cashflow_list[2]\n",
        "year_neg_three = free_cashflow_list[3]\n",
        "\n",
        "#proceed = input('Do you want to append TTM? y/n:  ')\n",
        "#if proceed == 'y':\n",
        "\n",
        "free_cashflow_list.append(append_ttm)\n",
        "fcf_growth = [\n",
        "              (year_neg_two - year_neg_three) / year_neg_three, \n",
        "              (year_neg_one - year_neg_two) / year_neg_two, \n",
        "              (year_zero - year_neg_one) / year_neg_one, \n",
        "              (float(free_cashflow_list[4]) - year_zero) / year_zero\n",
        "              ]\n",
        "year = [1, 2, 3, 4]\n",
        "fcf_list_new = [year_neg_three, year_neg_two, year_neg_one, year_zero, append_ttm]\n",
        "#else: \n",
        " # fcf_growth = [\n",
        "  #              (year_neg_two - year_neg_three) / year_neg_three, \n",
        "   #             (year_neg_one - year_neg_two) / year_neg_two, \n",
        "    #            (year_zero - year_neg_one) / year_neg_one\n",
        "     #           ]\n",
        "  #year = [1,2, 3]\n",
        "  #fcf_list_new = [year_neg_three, year_neg_two, year_neg_one, year_zero]\n",
        "fcf_list_new\n"
      ],
      "execution_count": 409,
      "outputs": [
        {
          "output_type": "execute_result",
          "data": {
            "text/plain": [
              "[17777000000.0, 18531000000.0, 19918000000.0, 20189000000.0, 22564000000.0]"
            ]
          },
          "metadata": {},
          "execution_count": 409
        }
      ]
    },
    {
      "cell_type": "code",
      "metadata": {
        "colab": {
          "base_uri": "https://localhost:8080/"
        },
        "id": "L0Qr5ZVxBZGV",
        "outputId": "4d26cb73-6efd-40f3-aff0-20ee2f287b7b"
      },
      "source": [
        "from statistics import mean\n",
        "\n",
        "def average(lst):\n",
        "  return mean(lst)\n",
        "\n",
        "fcf_growth_average = average(fcf_growth)\n",
        "fcf_growth_average"
      ],
      "execution_count": 410,
      "outputs": [
        {
          "output_type": "execute_result",
          "data": {
            "text/plain": [
              "0.062126502496653434"
            ]
          },
          "metadata": {},
          "execution_count": 410
        }
      ]
    },
    {
      "cell_type": "code",
      "metadata": {
        "colab": {
          "base_uri": "https://localhost:8080/"
        },
        "id": "pOVor3QtQVfW",
        "outputId": "d4efd41b-a026-408e-f166-143d9d9cb750"
      },
      "source": [
        "fcf_list_new[-1]"
      ],
      "execution_count": 411,
      "outputs": [
        {
          "output_type": "execute_result",
          "data": {
            "text/plain": [
              "22564000000.0"
            ]
          },
          "metadata": {},
          "execution_count": 411
        }
      ]
    },
    {
      "cell_type": "code",
      "metadata": {
        "colab": {
          "base_uri": "https://localhost:8080/"
        },
        "id": "_hBN-R_G9p6X",
        "outputId": "a067ee0a-6906-4be5-c9be-c886543c2b72"
      },
      "source": [
        "#Assumptions:\n",
        "required_rate = 0.08\n",
        "perpetual_rate = 0.02\n",
        "cashflow_growth = float(fcf_growth_average)\n",
        "\n",
        "\n",
        "\n",
        "\n",
        "# Empty Lists\n",
        "future_cashflow = []\n",
        "discount_factor = []\n",
        "discounted_future_cashflow = []\n",
        "\n",
        "\n",
        "\n",
        "for i in year:\n",
        "  cashflowDCF = fcf_list_new[-1] * (1+ cashflow_growth)**i\n",
        "  future_cashflow.append(cashflowDCF)\n",
        "  discount_factor.append((1 + required_rate) ** i)\n",
        "\n",
        "for i in range (0, len(year)):\n",
        "  discounted_future_cashflow.append(future_cashflow[i]/discount_factor[i])\n",
        "\n",
        "#print(discounted_future_cashflow)\n",
        "\n",
        "terminal_value = future_cashflow[-1] * (1 + perpetual_rate)/(required_rate - perpetual_rate)\n",
        "\n",
        "\n",
        "discounted_terminal_value = terminal_value/(1 + required_rate)**4\n",
        "discounted_future_cashflow.append(discounted_terminal_value)\n",
        "\n",
        "today_value = sum(discounted_future_cashflow)\n",
        "\n",
        "fair_value = (today_value / shares_outstanding)\n",
        "\n",
        "fair_value_safe = fair_value*.9\n",
        "print(\"${}\".format(round(fair_value, 2)))\n",
        "print(\"${}\".format(round(fair_value_safe,2)))\n",
        "print(fifty_two_low)\n",
        "print(fifty_day_avg_price)"
      ],
      "execution_count": 412,
      "outputs": [
        {
          "output_type": "stream",
          "text": [
            "$169.19\n",
            "$152.28\n",
            "133.65\n",
            "173.01886\n"
          ],
          "name": "stdout"
        }
      ]
    },
    {
      "cell_type": "markdown",
      "metadata": {
        "id": "xdTmOBlB3c3S"
      },
      "source": [
        "# Logo"
      ]
    },
    {
      "cell_type": "code",
      "metadata": {
        "id": "rQdad32o3JqJ"
      },
      "source": [
        ""
      ],
      "execution_count": 412,
      "outputs": []
    },
    {
      "cell_type": "markdown",
      "metadata": {
        "id": "StsqjwtgxULf"
      },
      "source": [
        "# Create PDF Output"
      ]
    },
    {
      "cell_type": "code",
      "metadata": {
        "colab": {
          "base_uri": "https://localhost:8080/"
        },
        "id": "xBe_Ttys0zu8",
        "outputId": "73d3df64-082c-4a77-ed98-aa14ef424a40"
      },
      "source": [
        "pWidth = 210\n",
        "pHeight = 297\n",
        "\n",
        "class PDF(FPDF):\n",
        "  def header (self):\n",
        "    self.set_font('Arial', 'B', 15)\n",
        "    self.cell(0,10,'Stock Analysis for ' + ticker.info['longName'],1,1,'L')\n",
        "    self.cell(0,10, 'Date:  ' + today)\n",
        "    self.ln(20)\n",
        "  \n",
        "  def footer (self):\n",
        "    self.set_y(-15)\n",
        "    self.set_font('Arial', 'I', 8)\n",
        "    #self.image('ticker.logo.png')\n",
        "    self.cell(0,10, 'Page ' + str(self.page_no()) + '/{nb}', 0, 0, 'c')\n",
        "    \n",
        "\n",
        "\n",
        "pdf = PDF()\n",
        "pdf.alias_nb_pages()\n",
        "pdf.set_auto_page_break(auto=True, margin = 15)\n",
        "# Cover Page\n",
        "pdf.add_page()\n",
        "pdf.set_font('helvetica', '', 16)\n",
        "pdf.cell(0,10, 'Current Price:  ' + current_priceSTR + '     EPS Fair Marekt Value:  '+ Fair_Market_Value_EPS_Method, ln=1)\n",
        "#pdf.cell(0,10, 'EPS Fair Marekt Value:  '+ Fair_Market_Value_EPS_Method,ln=1)\n",
        "pdf.cell(0,10,'Gross Margins:  ' + gross_margin_current,ln=1)\n",
        "pdf.cell(0,10,'Past Gross Margins:  ' + gross_marginSTR ,ln=1)\n",
        "pdf.cell(0,10,'Dividend Rate:  ' + dividend_rate +'    Dividend Yield:  ' + dividend_yield,ln=1)\n",
        "#pdf.image('sgaTbl.png',5,75,100,title='SGA Ratio')\n",
        "pdf.image('profits and cash.png',0,85,pWidth-5,100)\n",
        "pdf.image('Recommendations.png',0,180,pWidth, 50)\n",
        "pdf.image('earnings and revenue.png',0,230, pWidth,50)\n",
        "#Page 2\n",
        "pdf.add_page()\n",
        "pdf.cell(0,20,'Pricing',ln=1)\n",
        "#pdf.cell(0,10,'Cogs, RMs, labor',ln=1)\n",
        "#pdf.cell(0,10, 'Operating Expenses',ln=1)\n",
        "#pdf.cell(0,10, 'SG & A, R&D, Interest, Depreciation',ln=1)\n",
        "#pdf.cell(0,10, 'Net Earnings:  Are they rising?  % of Net Earnings to Revenue.',ln=1)\n",
        "#pdf.cell(0,10, '>20%>10%',ln=1)\n",
        "#pdf.cell(0,10,'Per Share Earnings:  Net Income / Shares Outstanding.  Look for trend', ln=1)\n",
        "pdf.cell(0,10,\"Discounted Future Cashflow Value (no safety):  ${}\".format(round(fair_value, 2)),ln=1)\n",
        "pdf.cell(0,10,\"Discounted Future Cashflow Value 90% Safe:  ${}\".format(round(fair_value_safe,2)),ln=1)\n",
        "pdf.cell(0,10, 'EPS Fair Market Value: '+ Fair_Market_Value_EPS_Method, ln=1)\n",
        "pdf.cell(0,10, '52-Week Low:  $'+ fifty_two_low,ln=1)\n",
        "pdf.cell(0,10, '52-Week Average: $' + fifty_day_avg_price, ln=1)\n",
        "pdf.cell(0,10,'52-Week High:  $' + fifty_two_high,ln=1)\n",
        "\n",
        "\n",
        "\n",
        "#pdf.cell(0,10, ' Intrinsic Value - DCF Model:  ${}'.format(round(fair_value_safe,2)),ln=1)\n",
        "\n",
        "pdf.output('stock pdf ' +ticker.info['longName'] + '.pdf')\n"
      ],
      "execution_count": 413,
      "outputs": [
        {
          "output_type": "stream",
          "text": [
            "/usr/local/lib/python3.7/dist-packages/fpdf/fpdf.py:1204: UserWarning: Substituting font arial by core font helvetica\n",
            "  f\"Substituting font {family} by core font \"\n"
          ],
          "name": "stderr"
        }
      ]
    },
    {
      "cell_type": "code",
      "metadata": {
        "colab": {
          "base_uri": "https://localhost:8080/",
          "height": 592
        },
        "id": "E0hOjwVKkGYI",
        "outputId": "e9815080-cae1-4079-843b-b9370453d1d5"
      },
      "source": [
        "ticker_hist = ticker.history()\n",
        "fig2 = ticker_hist.plot(kind = 'line',figsize = (15,10), subplots=True);\n",
        "plt.savefig('history plot.png')"
      ],
      "execution_count": 414,
      "outputs": [
        {
          "output_type": "display_data",
          "data": {
            "image/png": "[encoded data removed]",
            "text/plain": [
              "<Figure size 1080x720 with 7 Axes>"
            ]
          },
          "metadata": {}
        }
      ]
    },
    {
      "cell_type": "code",
      "metadata": {
        "id": "9xHT6Zfh8kTB"
      },
      "source": [
        ""
      ],
      "execution_count": 414,
      "outputs": []
    }
  ]
}