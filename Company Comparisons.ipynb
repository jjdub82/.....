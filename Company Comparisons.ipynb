{
 "cells": [
  {
   "cell_type": "code",
   "execution_count": 1,
   "id": "1dd9d49d",
   "metadata": {},
   "outputs": [],
   "source": [
    "%config IPCompleter.greedy=True"
   ]
  },
  {
   "cell_type": "code",
   "execution_count": 2,
   "id": "c6771caa",
   "metadata": {},
   "outputs": [],
   "source": [
    "import pandas as pd\n",
    "import yfinance as yf\n",
    "import numpy as np\n",
    "import matplotlib.pyplot as plt\n",
    "import seaborn as sns\n",
    "import datetime as dt\n",
    "import requests\n",
    "from PIL import Image\n",
    "from datetime import date\n",
    "from datetime import datetime\n",
    "from datetime import timedelta\n",
    "import pandas as pd\n",
    "import numpy as np\n",
    "import matplotlib.pyplot as plt\n",
    "from matplotlib.backends.backend_pdf import PdfPages\n",
    "import matplotlib.gridspec as gridspec\n",
    "from matplotlib.ticker import MaxNLocator\n",
    "from numpy import array\n",
    "from matplotlib import ticker\n",
    "today = str(date.today())\n",
    "current_year = date.today().year\n",
    "%matplotlib inline"
   ]
  },
  {
   "cell_type": "code",
   "execution_count": 6,
   "id": "9c3077e8",
   "metadata": {},
   "outputs": [],
   "source": [
    "df = yf.Ticker('MMM').info"
   ]
  },
  {
   "cell_type": "code",
   "execution_count": 16,
   "id": "50010805",
   "metadata": {},
   "outputs": [],
   "source": [
    "pd.options.display.max_rows = 999"
   ]
  },
  {
   "cell_type": "code",
   "execution_count": 22,
   "id": "d6b78ebc",
   "metadata": {},
   "outputs": [],
   "source": [
    "tickers = ['MMM', 'JNJ', 'PG', 'DHR']"
   ]
  },
  {
   "cell_type": "code",
   "execution_count": 23,
   "id": "db549374",
   "metadata": {},
   "outputs": [],
   "source": [
    "info_list = []\n",
    "for i in tickers:\n",
    "    info_list.append(yf.Ticker(i).info)"
   ]
  },
  {
   "cell_type": "code",
   "execution_count": 25,
   "id": "7748f83e",
   "metadata": {},
   "outputs": [],
   "source": [
    "fundamentals = ['marketCap', 'dividentYield', 'beta', 'forwardPE']"
   ]
  },
  {
   "cell_type": "code",
   "execution_count": 26,
   "id": "f119be65",
   "metadata": {},
   "outputs": [],
   "source": [
    "fund_df = pd.DataFrame(info_list)"
   ]
  },
  {
   "cell_type": "code",
   "execution_count": 33,
   "id": "3432e51c",
   "metadata": {},
   "outputs": [],
   "source": [
    "fund_df = fund_df.set_index('symbol')"
   ]
  },
  {
   "cell_type": "code",
   "execution_count": 34,
   "id": "09f82093",
   "metadata": {},
   "outputs": [
    {
     "data": {
      "text/html": [
       "<div>\n",
       "<style scoped>\n",
       "    .dataframe tbody tr th:only-of-type {\n",
       "        vertical-align: middle;\n",
       "    }\n",
       "\n",
       "    .dataframe tbody tr th {\n",
       "        vertical-align: top;\n",
       "    }\n",
       "\n",
       "    .dataframe thead th {\n",
       "        text-align: right;\n",
       "    }\n",
       "</style>\n",
       "<table border=\"1\" class=\"dataframe\">\n",
       "  <thead>\n",
       "    <tr style=\"text-align: right;\">\n",
       "      <th></th>\n",
       "      <th>beta</th>\n",
       "      <th>forwardPE</th>\n",
       "      <th>marketCap</th>\n",
       "    </tr>\n",
       "    <tr>\n",
       "      <th>symbol</th>\n",
       "      <th></th>\n",
       "      <th></th>\n",
       "      <th></th>\n",
       "    </tr>\n",
       "  </thead>\n",
       "  <tbody>\n",
       "    <tr>\n",
       "      <th>MMM</th>\n",
       "      <td>0.958579</td>\n",
       "      <td>18.093693</td>\n",
       "      <td>112863346688</td>\n",
       "    </tr>\n",
       "    <tr>\n",
       "      <th>JNJ</th>\n",
       "      <td>0.705755</td>\n",
       "      <td>16.564177</td>\n",
       "      <td>455234748416</td>\n",
       "    </tr>\n",
       "    <tr>\n",
       "      <th>PG</th>\n",
       "      <td>0.423345</td>\n",
       "      <td>23.957912</td>\n",
       "      <td>345446121472</td>\n",
       "    </tr>\n",
       "    <tr>\n",
       "      <th>DHR</th>\n",
       "      <td>0.699838</td>\n",
       "      <td>32.930860</td>\n",
       "      <td>227805511680</td>\n",
       "    </tr>\n",
       "  </tbody>\n",
       "</table>\n",
       "</div>"
      ],
      "text/plain": [
       "            beta  forwardPE     marketCap\n",
       "symbol                                   \n",
       "MMM     0.958579  18.093693  112863346688\n",
       "JNJ     0.705755  16.564177  455234748416\n",
       "PG      0.423345  23.957912  345446121472\n",
       "DHR     0.699838  32.930860  227805511680"
      ]
     },
     "execution_count": 34,
     "metadata": {},
     "output_type": "execute_result"
    }
   ],
   "source": [
    "fund_df[fund_df.columns[fund_df.columns.isin(fundamentals)]]"
   ]
  },
  {
   "cell_type": "code",
   "execution_count": null,
   "id": "fc2cdb40",
   "metadata": {},
   "outputs": [],
   "source": []
  }
 ],
 "metadata": {
  "kernelspec": {
   "display_name": "Python 3 (ipykernel)",
   "language": "python",
   "name": "python3"
  },
  "language_info": {
   "codemirror_mode": {
    "name": "ipython",
    "version": 3
   },
   "file_extension": ".py",
   "mimetype": "text/x-python",
   "name": "python",
   "nbconvert_exporter": "python",
   "pygments_lexer": "ipython3",
   "version": "3.8.8"
  }
 },
 "nbformat": 4,
 "nbformat_minor": 5
}
